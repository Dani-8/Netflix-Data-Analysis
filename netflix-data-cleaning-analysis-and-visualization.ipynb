{
 "cells": [
  {
   "cell_type": "code",
   "execution_count": 1,
   "id": "5937f00d",
   "metadata": {
    "_cell_guid": "b1076dfc-b9ad-4769-8c92-a6c4dae69d19",
    "_uuid": "8f2839f25d086af736a60e9eeb907d3b93b6e0e5",
    "execution": {
     "iopub.execute_input": "2023-10-09T20:52:49.594941Z",
     "iopub.status.busy": "2023-10-09T20:52:49.594485Z",
     "iopub.status.idle": "2023-10-09T20:52:51.552161Z",
     "shell.execute_reply": "2023-10-09T20:52:51.550826Z"
    },
    "papermill": {
     "duration": 1.974671,
     "end_time": "2023-10-09T20:52:51.554894",
     "exception": false,
     "start_time": "2023-10-09T20:52:49.580223",
     "status": "completed"
    },
    "tags": []
   },
   "outputs": [],
   "source": [
    "import pandas as pd\n",
    "import numpy as np\n",
    "import matplotlib.pyplot as plt\n",
    "import seaborn as sns"
   ]
  },
  {
   "cell_type": "code",
   "execution_count": 2,
   "id": "d61b1818",
   "metadata": {
    "execution": {
     "iopub.execute_input": "2023-10-09T20:52:51.575672Z",
     "iopub.status.busy": "2023-10-09T20:52:51.574533Z",
     "iopub.status.idle": "2023-10-09T20:52:51.649436Z",
     "shell.execute_reply": "2023-10-09T20:52:51.647875Z"
    },
    "papermill": {
     "duration": 0.088048,
     "end_time": "2023-10-09T20:52:51.652235",
     "exception": false,
     "start_time": "2023-10-09T20:52:51.564187",
     "status": "completed"
    },
    "tags": []
   },
   "outputs": [],
   "source": [
    "data = pd.read_csv('/kaggle/input/netflix-data-cleaning-analysis-and-visualization/netflix1.csv')"
   ]
  },
  {
   "cell_type": "code",
   "execution_count": 3,
   "id": "a5bf6359",
   "metadata": {
    "execution": {
     "iopub.execute_input": "2023-10-09T20:52:51.672413Z",
     "iopub.status.busy": "2023-10-09T20:52:51.672032Z",
     "iopub.status.idle": "2023-10-09T20:52:51.698103Z",
     "shell.execute_reply": "2023-10-09T20:52:51.696766Z"
    },
    "papermill": {
     "duration": 0.038923,
     "end_time": "2023-10-09T20:52:51.700354",
     "exception": false,
     "start_time": "2023-10-09T20:52:51.661431",
     "status": "completed"
    },
    "tags": []
   },
   "outputs": [
    {
     "data": {
      "text/html": [
       "<div>\n",
       "<style scoped>\n",
       "    .dataframe tbody tr th:only-of-type {\n",
       "        vertical-align: middle;\n",
       "    }\n",
       "\n",
       "    .dataframe tbody tr th {\n",
       "        vertical-align: top;\n",
       "    }\n",
       "\n",
       "    .dataframe thead th {\n",
       "        text-align: right;\n",
       "    }\n",
       "</style>\n",
       "<table border=\"1\" class=\"dataframe\">\n",
       "  <thead>\n",
       "    <tr style=\"text-align: right;\">\n",
       "      <th></th>\n",
       "      <th>show_id</th>\n",
       "      <th>type</th>\n",
       "      <th>title</th>\n",
       "      <th>director</th>\n",
       "      <th>country</th>\n",
       "      <th>date_added</th>\n",
       "      <th>release_year</th>\n",
       "      <th>rating</th>\n",
       "      <th>duration</th>\n",
       "      <th>listed_in</th>\n",
       "    </tr>\n",
       "  </thead>\n",
       "  <tbody>\n",
       "    <tr>\n",
       "      <th>0</th>\n",
       "      <td>s1</td>\n",
       "      <td>Movie</td>\n",
       "      <td>Dick Johnson Is Dead</td>\n",
       "      <td>Kirsten Johnson</td>\n",
       "      <td>United States</td>\n",
       "      <td>9/25/2021</td>\n",
       "      <td>2020</td>\n",
       "      <td>PG-13</td>\n",
       "      <td>90 min</td>\n",
       "      <td>Documentaries</td>\n",
       "    </tr>\n",
       "    <tr>\n",
       "      <th>1</th>\n",
       "      <td>s3</td>\n",
       "      <td>TV Show</td>\n",
       "      <td>Ganglands</td>\n",
       "      <td>Julien Leclercq</td>\n",
       "      <td>France</td>\n",
       "      <td>9/24/2021</td>\n",
       "      <td>2021</td>\n",
       "      <td>TV-MA</td>\n",
       "      <td>1 Season</td>\n",
       "      <td>Crime TV Shows, International TV Shows, TV Act...</td>\n",
       "    </tr>\n",
       "    <tr>\n",
       "      <th>2</th>\n",
       "      <td>s6</td>\n",
       "      <td>TV Show</td>\n",
       "      <td>Midnight Mass</td>\n",
       "      <td>Mike Flanagan</td>\n",
       "      <td>United States</td>\n",
       "      <td>9/24/2021</td>\n",
       "      <td>2021</td>\n",
       "      <td>TV-MA</td>\n",
       "      <td>1 Season</td>\n",
       "      <td>TV Dramas, TV Horror, TV Mysteries</td>\n",
       "    </tr>\n",
       "    <tr>\n",
       "      <th>3</th>\n",
       "      <td>s14</td>\n",
       "      <td>Movie</td>\n",
       "      <td>Confessions of an Invisible Girl</td>\n",
       "      <td>Bruno Garotti</td>\n",
       "      <td>Brazil</td>\n",
       "      <td>9/22/2021</td>\n",
       "      <td>2021</td>\n",
       "      <td>TV-PG</td>\n",
       "      <td>91 min</td>\n",
       "      <td>Children &amp; Family Movies, Comedies</td>\n",
       "    </tr>\n",
       "    <tr>\n",
       "      <th>4</th>\n",
       "      <td>s8</td>\n",
       "      <td>Movie</td>\n",
       "      <td>Sankofa</td>\n",
       "      <td>Haile Gerima</td>\n",
       "      <td>United States</td>\n",
       "      <td>9/24/2021</td>\n",
       "      <td>1993</td>\n",
       "      <td>TV-MA</td>\n",
       "      <td>125 min</td>\n",
       "      <td>Dramas, Independent Movies, International Movies</td>\n",
       "    </tr>\n",
       "  </tbody>\n",
       "</table>\n",
       "</div>"
      ],
      "text/plain": [
       "  show_id     type                             title         director  \\\n",
       "0      s1    Movie              Dick Johnson Is Dead  Kirsten Johnson   \n",
       "1      s3  TV Show                         Ganglands  Julien Leclercq   \n",
       "2      s6  TV Show                     Midnight Mass    Mike Flanagan   \n",
       "3     s14    Movie  Confessions of an Invisible Girl    Bruno Garotti   \n",
       "4      s8    Movie                           Sankofa     Haile Gerima   \n",
       "\n",
       "         country date_added  release_year rating  duration  \\\n",
       "0  United States  9/25/2021          2020  PG-13    90 min   \n",
       "1         France  9/24/2021          2021  TV-MA  1 Season   \n",
       "2  United States  9/24/2021          2021  TV-MA  1 Season   \n",
       "3         Brazil  9/22/2021          2021  TV-PG    91 min   \n",
       "4  United States  9/24/2021          1993  TV-MA   125 min   \n",
       "\n",
       "                                           listed_in  \n",
       "0                                      Documentaries  \n",
       "1  Crime TV Shows, International TV Shows, TV Act...  \n",
       "2                 TV Dramas, TV Horror, TV Mysteries  \n",
       "3                 Children & Family Movies, Comedies  \n",
       "4   Dramas, Independent Movies, International Movies  "
      ]
     },
     "execution_count": 3,
     "metadata": {},
     "output_type": "execute_result"
    }
   ],
   "source": [
    "data.head(5)"
   ]
  },
  {
   "cell_type": "code",
   "execution_count": 4,
   "id": "673c07ca",
   "metadata": {
    "execution": {
     "iopub.execute_input": "2023-10-09T20:52:51.719576Z",
     "iopub.status.busy": "2023-10-09T20:52:51.719213Z",
     "iopub.status.idle": "2023-10-09T20:52:51.733096Z",
     "shell.execute_reply": "2023-10-09T20:52:51.731998Z"
    },
    "papermill": {
     "duration": 0.025843,
     "end_time": "2023-10-09T20:52:51.735138",
     "exception": false,
     "start_time": "2023-10-09T20:52:51.709295",
     "status": "completed"
    },
    "tags": []
   },
   "outputs": [
    {
     "data": {
      "text/html": [
       "<div>\n",
       "<style scoped>\n",
       "    .dataframe tbody tr th:only-of-type {\n",
       "        vertical-align: middle;\n",
       "    }\n",
       "\n",
       "    .dataframe tbody tr th {\n",
       "        vertical-align: top;\n",
       "    }\n",
       "\n",
       "    .dataframe thead th {\n",
       "        text-align: right;\n",
       "    }\n",
       "</style>\n",
       "<table border=\"1\" class=\"dataframe\">\n",
       "  <thead>\n",
       "    <tr style=\"text-align: right;\">\n",
       "      <th></th>\n",
       "      <th>show_id</th>\n",
       "      <th>type</th>\n",
       "      <th>title</th>\n",
       "      <th>director</th>\n",
       "      <th>country</th>\n",
       "      <th>date_added</th>\n",
       "      <th>release_year</th>\n",
       "      <th>rating</th>\n",
       "      <th>duration</th>\n",
       "      <th>listed_in</th>\n",
       "    </tr>\n",
       "  </thead>\n",
       "  <tbody>\n",
       "    <tr>\n",
       "      <th>8785</th>\n",
       "      <td>s8797</td>\n",
       "      <td>TV Show</td>\n",
       "      <td>Yunus Emre</td>\n",
       "      <td>Not Given</td>\n",
       "      <td>Turkey</td>\n",
       "      <td>1/17/2017</td>\n",
       "      <td>2016</td>\n",
       "      <td>TV-PG</td>\n",
       "      <td>2 Seasons</td>\n",
       "      <td>International TV Shows, TV Dramas</td>\n",
       "    </tr>\n",
       "    <tr>\n",
       "      <th>8786</th>\n",
       "      <td>s8798</td>\n",
       "      <td>TV Show</td>\n",
       "      <td>Zak Storm</td>\n",
       "      <td>Not Given</td>\n",
       "      <td>United States</td>\n",
       "      <td>9/13/2018</td>\n",
       "      <td>2016</td>\n",
       "      <td>TV-Y7</td>\n",
       "      <td>3 Seasons</td>\n",
       "      <td>Kids' TV</td>\n",
       "    </tr>\n",
       "    <tr>\n",
       "      <th>8787</th>\n",
       "      <td>s8801</td>\n",
       "      <td>TV Show</td>\n",
       "      <td>Zindagi Gulzar Hai</td>\n",
       "      <td>Not Given</td>\n",
       "      <td>Pakistan</td>\n",
       "      <td>12/15/2016</td>\n",
       "      <td>2012</td>\n",
       "      <td>TV-PG</td>\n",
       "      <td>1 Season</td>\n",
       "      <td>International TV Shows, Romantic TV Shows, TV ...</td>\n",
       "    </tr>\n",
       "    <tr>\n",
       "      <th>8788</th>\n",
       "      <td>s8784</td>\n",
       "      <td>TV Show</td>\n",
       "      <td>Yoko</td>\n",
       "      <td>Not Given</td>\n",
       "      <td>Pakistan</td>\n",
       "      <td>6/23/2018</td>\n",
       "      <td>2016</td>\n",
       "      <td>TV-Y</td>\n",
       "      <td>1 Season</td>\n",
       "      <td>Kids' TV</td>\n",
       "    </tr>\n",
       "    <tr>\n",
       "      <th>8789</th>\n",
       "      <td>s8786</td>\n",
       "      <td>TV Show</td>\n",
       "      <td>YOM</td>\n",
       "      <td>Not Given</td>\n",
       "      <td>Pakistan</td>\n",
       "      <td>6/7/2018</td>\n",
       "      <td>2016</td>\n",
       "      <td>TV-Y7</td>\n",
       "      <td>1 Season</td>\n",
       "      <td>Kids' TV</td>\n",
       "    </tr>\n",
       "  </tbody>\n",
       "</table>\n",
       "</div>"
      ],
      "text/plain": [
       "     show_id     type               title   director        country  \\\n",
       "8785   s8797  TV Show          Yunus Emre  Not Given         Turkey   \n",
       "8786   s8798  TV Show           Zak Storm  Not Given  United States   \n",
       "8787   s8801  TV Show  Zindagi Gulzar Hai  Not Given       Pakistan   \n",
       "8788   s8784  TV Show                Yoko  Not Given       Pakistan   \n",
       "8789   s8786  TV Show                 YOM  Not Given       Pakistan   \n",
       "\n",
       "      date_added  release_year rating   duration  \\\n",
       "8785   1/17/2017          2016  TV-PG  2 Seasons   \n",
       "8786   9/13/2018          2016  TV-Y7  3 Seasons   \n",
       "8787  12/15/2016          2012  TV-PG   1 Season   \n",
       "8788   6/23/2018          2016   TV-Y   1 Season   \n",
       "8789    6/7/2018          2016  TV-Y7   1 Season   \n",
       "\n",
       "                                              listed_in  \n",
       "8785                  International TV Shows, TV Dramas  \n",
       "8786                                           Kids' TV  \n",
       "8787  International TV Shows, Romantic TV Shows, TV ...  \n",
       "8788                                           Kids' TV  \n",
       "8789                                           Kids' TV  "
      ]
     },
     "execution_count": 4,
     "metadata": {},
     "output_type": "execute_result"
    }
   ],
   "source": [
    "data.tail(5)"
   ]
  },
  {
   "cell_type": "code",
   "execution_count": 5,
   "id": "82ea607d",
   "metadata": {
    "execution": {
     "iopub.execute_input": "2023-10-09T20:52:51.754925Z",
     "iopub.status.busy": "2023-10-09T20:52:51.754591Z",
     "iopub.status.idle": "2023-10-09T20:52:51.781148Z",
     "shell.execute_reply": "2023-10-09T20:52:51.779537Z"
    },
    "papermill": {
     "duration": 0.040151,
     "end_time": "2023-10-09T20:52:51.784562",
     "exception": false,
     "start_time": "2023-10-09T20:52:51.744411",
     "status": "completed"
    },
    "tags": []
   },
   "outputs": [],
   "source": [
    "data.drop_duplicates(inplace = True)"
   ]
  },
  {
   "cell_type": "code",
   "execution_count": 6,
   "id": "e8ebfaa1",
   "metadata": {
    "execution": {
     "iopub.execute_input": "2023-10-09T20:52:51.810775Z",
     "iopub.status.busy": "2023-10-09T20:52:51.810152Z",
     "iopub.status.idle": "2023-10-09T20:52:51.825178Z",
     "shell.execute_reply": "2023-10-09T20:52:51.823816Z"
    },
    "papermill": {
     "duration": 0.033138,
     "end_time": "2023-10-09T20:52:51.828311",
     "exception": false,
     "start_time": "2023-10-09T20:52:51.795173",
     "status": "completed"
    },
    "tags": []
   },
   "outputs": [],
   "source": [
    "data.dropna(inplace = True)"
   ]
  },
  {
   "cell_type": "code",
   "execution_count": 7,
   "id": "cc8e79c4",
   "metadata": {
    "execution": {
     "iopub.execute_input": "2023-10-09T20:52:51.850845Z",
     "iopub.status.busy": "2023-10-09T20:52:51.850526Z",
     "iopub.status.idle": "2023-10-09T20:52:51.856429Z",
     "shell.execute_reply": "2023-10-09T20:52:51.855434Z"
    },
    "papermill": {
     "duration": 0.019706,
     "end_time": "2023-10-09T20:52:51.858796",
     "exception": false,
     "start_time": "2023-10-09T20:52:51.839090",
     "status": "completed"
    },
    "tags": []
   },
   "outputs": [
    {
     "data": {
      "text/plain": [
       "(8790, 10)"
      ]
     },
     "execution_count": 7,
     "metadata": {},
     "output_type": "execute_result"
    }
   ],
   "source": [
    "data.shape"
   ]
  },
  {
   "cell_type": "code",
   "execution_count": 8,
   "id": "607269a0",
   "metadata": {
    "execution": {
     "iopub.execute_input": "2023-10-09T20:52:51.881950Z",
     "iopub.status.busy": "2023-10-09T20:52:51.881560Z",
     "iopub.status.idle": "2023-10-09T20:52:51.888445Z",
     "shell.execute_reply": "2023-10-09T20:52:51.887453Z"
    },
    "papermill": {
     "duration": 0.021224,
     "end_time": "2023-10-09T20:52:51.890903",
     "exception": false,
     "start_time": "2023-10-09T20:52:51.869679",
     "status": "completed"
    },
    "tags": []
   },
   "outputs": [
    {
     "data": {
      "text/plain": [
       "Index(['show_id', 'type', 'title', 'director', 'country', 'date_added',\n",
       "       'release_year', 'rating', 'duration', 'listed_in'],\n",
       "      dtype='object')"
      ]
     },
     "execution_count": 8,
     "metadata": {},
     "output_type": "execute_result"
    }
   ],
   "source": [
    "data.columns"
   ]
  },
  {
   "cell_type": "code",
   "execution_count": 9,
   "id": "59092a63",
   "metadata": {
    "execution": {
     "iopub.execute_input": "2023-10-09T20:52:51.917529Z",
     "iopub.status.busy": "2023-10-09T20:52:51.917189Z",
     "iopub.status.idle": "2023-10-09T20:52:51.943255Z",
     "shell.execute_reply": "2023-10-09T20:52:51.942581Z"
    },
    "papermill": {
     "duration": 0.042072,
     "end_time": "2023-10-09T20:52:51.946337",
     "exception": false,
     "start_time": "2023-10-09T20:52:51.904265",
     "status": "completed"
    },
    "tags": []
   },
   "outputs": [
    {
     "name": "stdout",
     "output_type": "stream",
     "text": [
      "<class 'pandas.core.frame.DataFrame'>\n",
      "RangeIndex: 8790 entries, 0 to 8789\n",
      "Data columns (total 10 columns):\n",
      " #   Column        Non-Null Count  Dtype \n",
      "---  ------        --------------  ----- \n",
      " 0   show_id       8790 non-null   object\n",
      " 1   type          8790 non-null   object\n",
      " 2   title         8790 non-null   object\n",
      " 3   director      8790 non-null   object\n",
      " 4   country       8790 non-null   object\n",
      " 5   date_added    8790 non-null   object\n",
      " 6   release_year  8790 non-null   int64 \n",
      " 7   rating        8790 non-null   object\n",
      " 8   duration      8790 non-null   object\n",
      " 9   listed_in     8790 non-null   object\n",
      "dtypes: int64(1), object(9)\n",
      "memory usage: 686.8+ KB\n"
     ]
    }
   ],
   "source": [
    "data.info()"
   ]
  },
  {
   "cell_type": "code",
   "execution_count": 10,
   "id": "e8c4d692",
   "metadata": {
    "execution": {
     "iopub.execute_input": "2023-10-09T20:52:51.969170Z",
     "iopub.status.busy": "2023-10-09T20:52:51.968800Z",
     "iopub.status.idle": "2023-10-09T20:52:51.989159Z",
     "shell.execute_reply": "2023-10-09T20:52:51.987752Z"
    },
    "papermill": {
     "duration": 0.034447,
     "end_time": "2023-10-09T20:52:51.991642",
     "exception": false,
     "start_time": "2023-10-09T20:52:51.957195",
     "status": "completed"
    },
    "tags": []
   },
   "outputs": [
    {
     "data": {
      "text/plain": [
       "dtype('<M8[ns]')"
      ]
     },
     "execution_count": 10,
     "metadata": {},
     "output_type": "execute_result"
    }
   ],
   "source": [
    "data['date_added'] = pd.to_datetime(data['date_added'])\n",
    "data['date_added'].dtype"
   ]
  },
  {
   "cell_type": "code",
   "execution_count": 11,
   "id": "0f2cb37c",
   "metadata": {
    "execution": {
     "iopub.execute_input": "2023-10-09T20:52:52.014212Z",
     "iopub.status.busy": "2023-10-09T20:52:52.013820Z",
     "iopub.status.idle": "2023-10-09T20:52:52.066066Z",
     "shell.execute_reply": "2023-10-09T20:52:52.065213Z"
    },
    "papermill": {
     "duration": 0.066133,
     "end_time": "2023-10-09T20:52:52.068038",
     "exception": false,
     "start_time": "2023-10-09T20:52:52.001905",
     "status": "completed"
    },
    "tags": []
   },
   "outputs": [
    {
     "data": {
      "text/html": [
       "<div>\n",
       "<style scoped>\n",
       "    .dataframe tbody tr th:only-of-type {\n",
       "        vertical-align: middle;\n",
       "    }\n",
       "\n",
       "    .dataframe tbody tr th {\n",
       "        vertical-align: top;\n",
       "    }\n",
       "\n",
       "    .dataframe thead th {\n",
       "        text-align: right;\n",
       "    }\n",
       "</style>\n",
       "<table border=\"1\" class=\"dataframe\">\n",
       "  <thead>\n",
       "    <tr style=\"text-align: right;\">\n",
       "      <th></th>\n",
       "      <th>show_id</th>\n",
       "      <th>type</th>\n",
       "      <th>title</th>\n",
       "      <th>director</th>\n",
       "      <th>country</th>\n",
       "      <th>date_added</th>\n",
       "      <th>release_year</th>\n",
       "      <th>rating</th>\n",
       "      <th>duration</th>\n",
       "      <th>listed_in</th>\n",
       "    </tr>\n",
       "  </thead>\n",
       "  <tbody>\n",
       "    <tr>\n",
       "      <th>count</th>\n",
       "      <td>8790</td>\n",
       "      <td>8790</td>\n",
       "      <td>8790</td>\n",
       "      <td>8790</td>\n",
       "      <td>8790</td>\n",
       "      <td>8790</td>\n",
       "      <td>8790.000000</td>\n",
       "      <td>8790</td>\n",
       "      <td>8790</td>\n",
       "      <td>8790</td>\n",
       "    </tr>\n",
       "    <tr>\n",
       "      <th>unique</th>\n",
       "      <td>8790</td>\n",
       "      <td>2</td>\n",
       "      <td>8787</td>\n",
       "      <td>4528</td>\n",
       "      <td>86</td>\n",
       "      <td>NaN</td>\n",
       "      <td>NaN</td>\n",
       "      <td>14</td>\n",
       "      <td>220</td>\n",
       "      <td>513</td>\n",
       "    </tr>\n",
       "    <tr>\n",
       "      <th>top</th>\n",
       "      <td>s1</td>\n",
       "      <td>Movie</td>\n",
       "      <td>9-Feb</td>\n",
       "      <td>Not Given</td>\n",
       "      <td>United States</td>\n",
       "      <td>NaN</td>\n",
       "      <td>NaN</td>\n",
       "      <td>TV-MA</td>\n",
       "      <td>1 Season</td>\n",
       "      <td>Dramas, International Movies</td>\n",
       "    </tr>\n",
       "    <tr>\n",
       "      <th>freq</th>\n",
       "      <td>1</td>\n",
       "      <td>6126</td>\n",
       "      <td>2</td>\n",
       "      <td>2588</td>\n",
       "      <td>3240</td>\n",
       "      <td>NaN</td>\n",
       "      <td>NaN</td>\n",
       "      <td>3205</td>\n",
       "      <td>1791</td>\n",
       "      <td>362</td>\n",
       "    </tr>\n",
       "    <tr>\n",
       "      <th>mean</th>\n",
       "      <td>NaN</td>\n",
       "      <td>NaN</td>\n",
       "      <td>NaN</td>\n",
       "      <td>NaN</td>\n",
       "      <td>NaN</td>\n",
       "      <td>2019-05-17 21:44:01.638225408</td>\n",
       "      <td>2014.183163</td>\n",
       "      <td>NaN</td>\n",
       "      <td>NaN</td>\n",
       "      <td>NaN</td>\n",
       "    </tr>\n",
       "    <tr>\n",
       "      <th>min</th>\n",
       "      <td>NaN</td>\n",
       "      <td>NaN</td>\n",
       "      <td>NaN</td>\n",
       "      <td>NaN</td>\n",
       "      <td>NaN</td>\n",
       "      <td>2008-01-01 00:00:00</td>\n",
       "      <td>1925.000000</td>\n",
       "      <td>NaN</td>\n",
       "      <td>NaN</td>\n",
       "      <td>NaN</td>\n",
       "    </tr>\n",
       "    <tr>\n",
       "      <th>25%</th>\n",
       "      <td>NaN</td>\n",
       "      <td>NaN</td>\n",
       "      <td>NaN</td>\n",
       "      <td>NaN</td>\n",
       "      <td>NaN</td>\n",
       "      <td>2018-04-06 00:00:00</td>\n",
       "      <td>2013.000000</td>\n",
       "      <td>NaN</td>\n",
       "      <td>NaN</td>\n",
       "      <td>NaN</td>\n",
       "    </tr>\n",
       "    <tr>\n",
       "      <th>50%</th>\n",
       "      <td>NaN</td>\n",
       "      <td>NaN</td>\n",
       "      <td>NaN</td>\n",
       "      <td>NaN</td>\n",
       "      <td>NaN</td>\n",
       "      <td>2019-07-03 00:00:00</td>\n",
       "      <td>2017.000000</td>\n",
       "      <td>NaN</td>\n",
       "      <td>NaN</td>\n",
       "      <td>NaN</td>\n",
       "    </tr>\n",
       "    <tr>\n",
       "      <th>75%</th>\n",
       "      <td>NaN</td>\n",
       "      <td>NaN</td>\n",
       "      <td>NaN</td>\n",
       "      <td>NaN</td>\n",
       "      <td>NaN</td>\n",
       "      <td>2020-08-19 18:00:00</td>\n",
       "      <td>2019.000000</td>\n",
       "      <td>NaN</td>\n",
       "      <td>NaN</td>\n",
       "      <td>NaN</td>\n",
       "    </tr>\n",
       "    <tr>\n",
       "      <th>max</th>\n",
       "      <td>NaN</td>\n",
       "      <td>NaN</td>\n",
       "      <td>NaN</td>\n",
       "      <td>NaN</td>\n",
       "      <td>NaN</td>\n",
       "      <td>2021-09-25 00:00:00</td>\n",
       "      <td>2021.000000</td>\n",
       "      <td>NaN</td>\n",
       "      <td>NaN</td>\n",
       "      <td>NaN</td>\n",
       "    </tr>\n",
       "    <tr>\n",
       "      <th>std</th>\n",
       "      <td>NaN</td>\n",
       "      <td>NaN</td>\n",
       "      <td>NaN</td>\n",
       "      <td>NaN</td>\n",
       "      <td>NaN</td>\n",
       "      <td>NaN</td>\n",
       "      <td>8.825466</td>\n",
       "      <td>NaN</td>\n",
       "      <td>NaN</td>\n",
       "      <td>NaN</td>\n",
       "    </tr>\n",
       "  </tbody>\n",
       "</table>\n",
       "</div>"
      ],
      "text/plain": [
       "       show_id   type  title   director        country  \\\n",
       "count     8790   8790   8790       8790           8790   \n",
       "unique    8790      2   8787       4528             86   \n",
       "top         s1  Movie  9-Feb  Not Given  United States   \n",
       "freq         1   6126      2       2588           3240   \n",
       "mean       NaN    NaN    NaN        NaN            NaN   \n",
       "min        NaN    NaN    NaN        NaN            NaN   \n",
       "25%        NaN    NaN    NaN        NaN            NaN   \n",
       "50%        NaN    NaN    NaN        NaN            NaN   \n",
       "75%        NaN    NaN    NaN        NaN            NaN   \n",
       "max        NaN    NaN    NaN        NaN            NaN   \n",
       "std        NaN    NaN    NaN        NaN            NaN   \n",
       "\n",
       "                           date_added  release_year rating  duration  \\\n",
       "count                            8790   8790.000000   8790      8790   \n",
       "unique                            NaN           NaN     14       220   \n",
       "top                               NaN           NaN  TV-MA  1 Season   \n",
       "freq                              NaN           NaN   3205      1791   \n",
       "mean    2019-05-17 21:44:01.638225408   2014.183163    NaN       NaN   \n",
       "min               2008-01-01 00:00:00   1925.000000    NaN       NaN   \n",
       "25%               2018-04-06 00:00:00   2013.000000    NaN       NaN   \n",
       "50%               2019-07-03 00:00:00   2017.000000    NaN       NaN   \n",
       "75%               2020-08-19 18:00:00   2019.000000    NaN       NaN   \n",
       "max               2021-09-25 00:00:00   2021.000000    NaN       NaN   \n",
       "std                               NaN      8.825466    NaN       NaN   \n",
       "\n",
       "                           listed_in  \n",
       "count                           8790  \n",
       "unique                           513  \n",
       "top     Dramas, International Movies  \n",
       "freq                             362  \n",
       "mean                             NaN  \n",
       "min                              NaN  \n",
       "25%                              NaN  \n",
       "50%                              NaN  \n",
       "75%                              NaN  \n",
       "max                              NaN  \n",
       "std                              NaN  "
      ]
     },
     "execution_count": 11,
     "metadata": {},
     "output_type": "execute_result"
    }
   ],
   "source": [
    "data.describe(include = 'all')"
   ]
  },
  {
   "cell_type": "code",
   "execution_count": 12,
   "id": "271f2eb3",
   "metadata": {
    "execution": {
     "iopub.execute_input": "2023-10-09T20:52:52.094522Z",
     "iopub.status.busy": "2023-10-09T20:52:52.093907Z",
     "iopub.status.idle": "2023-10-09T20:52:52.103212Z",
     "shell.execute_reply": "2023-10-09T20:52:52.102549Z"
    },
    "papermill": {
     "duration": 0.024807,
     "end_time": "2023-10-09T20:52:52.105134",
     "exception": false,
     "start_time": "2023-10-09T20:52:52.080327",
     "status": "completed"
    },
    "tags": []
   },
   "outputs": [
    {
     "data": {
      "text/html": [
       "<div>\n",
       "<style scoped>\n",
       "    .dataframe tbody tr th:only-of-type {\n",
       "        vertical-align: middle;\n",
       "    }\n",
       "\n",
       "    .dataframe tbody tr th {\n",
       "        vertical-align: top;\n",
       "    }\n",
       "\n",
       "    .dataframe thead th {\n",
       "        text-align: right;\n",
       "    }\n",
       "</style>\n",
       "<table border=\"1\" class=\"dataframe\">\n",
       "  <thead>\n",
       "    <tr style=\"text-align: right;\">\n",
       "      <th></th>\n",
       "      <th>type</th>\n",
       "      <th>count</th>\n",
       "    </tr>\n",
       "  </thead>\n",
       "  <tbody>\n",
       "    <tr>\n",
       "      <th>0</th>\n",
       "      <td>Movie</td>\n",
       "      <td>6126</td>\n",
       "    </tr>\n",
       "    <tr>\n",
       "      <th>1</th>\n",
       "      <td>TV Show</td>\n",
       "      <td>2664</td>\n",
       "    </tr>\n",
       "  </tbody>\n",
       "</table>\n",
       "</div>"
      ],
      "text/plain": [
       "      type  count\n",
       "0    Movie   6126\n",
       "1  TV Show   2664"
      ]
     },
     "execution_count": 12,
     "metadata": {},
     "output_type": "execute_result"
    }
   ],
   "source": [
    "types = data['type'].value_counts().reset_index()\n",
    "types"
   ]
  },
  {
   "cell_type": "code",
   "execution_count": 13,
   "id": "35cf42c9",
   "metadata": {
    "execution": {
     "iopub.execute_input": "2023-10-09T20:52:52.223041Z",
     "iopub.status.busy": "2023-10-09T20:52:52.222460Z",
     "iopub.status.idle": "2023-10-09T20:52:52.233293Z",
     "shell.execute_reply": "2023-10-09T20:52:52.232649Z"
    },
    "papermill": {
     "duration": 0.025487,
     "end_time": "2023-10-09T20:52:52.235247",
     "exception": false,
     "start_time": "2023-10-09T20:52:52.209760",
     "status": "completed"
    },
    "tags": []
   },
   "outputs": [
    {
     "data": {
      "text/html": [
       "<div>\n",
       "<style scoped>\n",
       "    .dataframe tbody tr th:only-of-type {\n",
       "        vertical-align: middle;\n",
       "    }\n",
       "\n",
       "    .dataframe tbody tr th {\n",
       "        vertical-align: top;\n",
       "    }\n",
       "\n",
       "    .dataframe thead th {\n",
       "        text-align: right;\n",
       "    }\n",
       "</style>\n",
       "<table border=\"1\" class=\"dataframe\">\n",
       "  <thead>\n",
       "    <tr style=\"text-align: right;\">\n",
       "      <th></th>\n",
       "      <th>country</th>\n",
       "      <th>count</th>\n",
       "    </tr>\n",
       "  </thead>\n",
       "  <tbody>\n",
       "    <tr>\n",
       "      <th>0</th>\n",
       "      <td>United States</td>\n",
       "      <td>3240</td>\n",
       "    </tr>\n",
       "    <tr>\n",
       "      <th>1</th>\n",
       "      <td>India</td>\n",
       "      <td>1057</td>\n",
       "    </tr>\n",
       "    <tr>\n",
       "      <th>2</th>\n",
       "      <td>United Kingdom</td>\n",
       "      <td>638</td>\n",
       "    </tr>\n",
       "    <tr>\n",
       "      <th>3</th>\n",
       "      <td>Pakistan</td>\n",
       "      <td>421</td>\n",
       "    </tr>\n",
       "    <tr>\n",
       "      <th>4</th>\n",
       "      <td>Not Given</td>\n",
       "      <td>287</td>\n",
       "    </tr>\n",
       "    <tr>\n",
       "      <th>...</th>\n",
       "      <td>...</td>\n",
       "      <td>...</td>\n",
       "    </tr>\n",
       "    <tr>\n",
       "      <th>81</th>\n",
       "      <td>Iran</td>\n",
       "      <td>1</td>\n",
       "    </tr>\n",
       "    <tr>\n",
       "      <th>82</th>\n",
       "      <td>West Germany</td>\n",
       "      <td>1</td>\n",
       "    </tr>\n",
       "    <tr>\n",
       "      <th>83</th>\n",
       "      <td>Greece</td>\n",
       "      <td>1</td>\n",
       "    </tr>\n",
       "    <tr>\n",
       "      <th>84</th>\n",
       "      <td>Zimbabwe</td>\n",
       "      <td>1</td>\n",
       "    </tr>\n",
       "    <tr>\n",
       "      <th>85</th>\n",
       "      <td>Soviet Union</td>\n",
       "      <td>1</td>\n",
       "    </tr>\n",
       "  </tbody>\n",
       "</table>\n",
       "<p>86 rows × 2 columns</p>\n",
       "</div>"
      ],
      "text/plain": [
       "           country  count\n",
       "0    United States   3240\n",
       "1            India   1057\n",
       "2   United Kingdom    638\n",
       "3         Pakistan    421\n",
       "4        Not Given    287\n",
       "..             ...    ...\n",
       "81            Iran      1\n",
       "82    West Germany      1\n",
       "83          Greece      1\n",
       "84        Zimbabwe      1\n",
       "85    Soviet Union      1\n",
       "\n",
       "[86 rows x 2 columns]"
      ]
     },
     "execution_count": 13,
     "metadata": {},
     "output_type": "execute_result"
    }
   ],
   "source": [
    "countries = data['country'].value_counts().reset_index()\n",
    "countries"
   ]
  },
  {
   "cell_type": "code",
   "execution_count": 14,
   "id": "f6b98660",
   "metadata": {
    "execution": {
     "iopub.execute_input": "2023-10-09T20:52:52.259356Z",
     "iopub.status.busy": "2023-10-09T20:52:52.258782Z",
     "iopub.status.idle": "2023-10-09T20:52:52.276084Z",
     "shell.execute_reply": "2023-10-09T20:52:52.275326Z"
    },
    "papermill": {
     "duration": 0.031774,
     "end_time": "2023-10-09T20:52:52.278037",
     "exception": false,
     "start_time": "2023-10-09T20:52:52.246263",
     "status": "completed"
    },
    "tags": []
   },
   "outputs": [
    {
     "data": {
      "text/html": [
       "<div>\n",
       "<style scoped>\n",
       "    .dataframe tbody tr th:only-of-type {\n",
       "        vertical-align: middle;\n",
       "    }\n",
       "\n",
       "    .dataframe tbody tr th {\n",
       "        vertical-align: top;\n",
       "    }\n",
       "\n",
       "    .dataframe thead th {\n",
       "        text-align: right;\n",
       "    }\n",
       "</style>\n",
       "<table border=\"1\" class=\"dataframe\">\n",
       "  <thead>\n",
       "    <tr style=\"text-align: right;\">\n",
       "      <th></th>\n",
       "      <th>type</th>\n",
       "      <th>country</th>\n",
       "      <th>count</th>\n",
       "    </tr>\n",
       "  </thead>\n",
       "  <tbody>\n",
       "    <tr>\n",
       "      <th>0</th>\n",
       "      <td>Movie</td>\n",
       "      <td>United States</td>\n",
       "      <td>2395</td>\n",
       "    </tr>\n",
       "    <tr>\n",
       "      <th>1</th>\n",
       "      <td>Movie</td>\n",
       "      <td>India</td>\n",
       "      <td>976</td>\n",
       "    </tr>\n",
       "    <tr>\n",
       "      <th>2</th>\n",
       "      <td>Movie</td>\n",
       "      <td>United Kingdom</td>\n",
       "      <td>387</td>\n",
       "    </tr>\n",
       "    <tr>\n",
       "      <th>3</th>\n",
       "      <td>Movie</td>\n",
       "      <td>Not Given</td>\n",
       "      <td>257</td>\n",
       "    </tr>\n",
       "    <tr>\n",
       "      <th>4</th>\n",
       "      <td>Movie</td>\n",
       "      <td>Canada</td>\n",
       "      <td>187</td>\n",
       "    </tr>\n",
       "    <tr>\n",
       "      <th>...</th>\n",
       "      <td>...</td>\n",
       "      <td>...</td>\n",
       "      <td>...</td>\n",
       "    </tr>\n",
       "    <tr>\n",
       "      <th>133</th>\n",
       "      <td>TV Show</td>\n",
       "      <td>Luxembourg</td>\n",
       "      <td>1</td>\n",
       "    </tr>\n",
       "    <tr>\n",
       "      <th>134</th>\n",
       "      <td>TV Show</td>\n",
       "      <td>Puerto Rico</td>\n",
       "      <td>1</td>\n",
       "    </tr>\n",
       "    <tr>\n",
       "      <th>135</th>\n",
       "      <td>TV Show</td>\n",
       "      <td>Croatia</td>\n",
       "      <td>1</td>\n",
       "    </tr>\n",
       "    <tr>\n",
       "      <th>136</th>\n",
       "      <td>TV Show</td>\n",
       "      <td>Mauritius</td>\n",
       "      <td>1</td>\n",
       "    </tr>\n",
       "    <tr>\n",
       "      <th>137</th>\n",
       "      <td>TV Show</td>\n",
       "      <td>Uruguay</td>\n",
       "      <td>1</td>\n",
       "    </tr>\n",
       "  </tbody>\n",
       "</table>\n",
       "<p>138 rows × 3 columns</p>\n",
       "</div>"
      ],
      "text/plain": [
       "        type         country  count\n",
       "0      Movie   United States   2395\n",
       "1      Movie           India    976\n",
       "2      Movie  United Kingdom    387\n",
       "3      Movie       Not Given    257\n",
       "4      Movie          Canada    187\n",
       "..       ...             ...    ...\n",
       "133  TV Show      Luxembourg      1\n",
       "134  TV Show     Puerto Rico      1\n",
       "135  TV Show         Croatia      1\n",
       "136  TV Show       Mauritius      1\n",
       "137  TV Show         Uruguay      1\n",
       "\n",
       "[138 rows x 3 columns]"
      ]
     },
     "execution_count": 14,
     "metadata": {},
     "output_type": "execute_result"
    }
   ],
   "source": [
    "data.groupby('type')['country'].value_counts().reset_index()"
   ]
  },
  {
   "cell_type": "code",
   "execution_count": 15,
   "id": "0ff2f801",
   "metadata": {
    "execution": {
     "iopub.execute_input": "2023-10-09T20:52:52.301968Z",
     "iopub.status.busy": "2023-10-09T20:52:52.301372Z",
     "iopub.status.idle": "2023-10-09T20:52:52.322972Z",
     "shell.execute_reply": "2023-10-09T20:52:52.321904Z"
    },
    "papermill": {
     "duration": 0.035946,
     "end_time": "2023-10-09T20:52:52.325107",
     "exception": false,
     "start_time": "2023-10-09T20:52:52.289161",
     "status": "completed"
    },
    "tags": []
   },
   "outputs": [
    {
     "data": {
      "text/html": [
       "<div>\n",
       "<style scoped>\n",
       "    .dataframe tbody tr th:only-of-type {\n",
       "        vertical-align: middle;\n",
       "    }\n",
       "\n",
       "    .dataframe tbody tr th {\n",
       "        vertical-align: top;\n",
       "    }\n",
       "\n",
       "    .dataframe thead th {\n",
       "        text-align: right;\n",
       "    }\n",
       "</style>\n",
       "<table border=\"1\" class=\"dataframe\">\n",
       "  <thead>\n",
       "    <tr style=\"text-align: right;\">\n",
       "      <th></th>\n",
       "      <th>type</th>\n",
       "      <th>director</th>\n",
       "      <th>count</th>\n",
       "    </tr>\n",
       "  </thead>\n",
       "  <tbody>\n",
       "    <tr>\n",
       "      <th>0</th>\n",
       "      <td>Movie</td>\n",
       "      <td>Not Given</td>\n",
       "      <td>173</td>\n",
       "    </tr>\n",
       "    <tr>\n",
       "      <th>1</th>\n",
       "      <td>Movie</td>\n",
       "      <td>Rajiv Chilaka</td>\n",
       "      <td>19</td>\n",
       "    </tr>\n",
       "    <tr>\n",
       "      <th>2</th>\n",
       "      <td>Movie</td>\n",
       "      <td>Raúl Campos, Jan Suter</td>\n",
       "      <td>18</td>\n",
       "    </tr>\n",
       "    <tr>\n",
       "      <th>3</th>\n",
       "      <td>Movie</td>\n",
       "      <td>Suhas Kadav</td>\n",
       "      <td>16</td>\n",
       "    </tr>\n",
       "    <tr>\n",
       "      <th>4</th>\n",
       "      <td>Movie</td>\n",
       "      <td>Marcus Raboy</td>\n",
       "      <td>15</td>\n",
       "    </tr>\n",
       "    <tr>\n",
       "      <th>...</th>\n",
       "      <td>...</td>\n",
       "      <td>...</td>\n",
       "      <td>...</td>\n",
       "    </tr>\n",
       "    <tr>\n",
       "      <th>4576</th>\n",
       "      <td>TV Show</td>\n",
       "      <td>Mark Tonderai</td>\n",
       "      <td>1</td>\n",
       "    </tr>\n",
       "    <tr>\n",
       "      <th>4577</th>\n",
       "      <td>TV Show</td>\n",
       "      <td>Mark Lewis</td>\n",
       "      <td>1</td>\n",
       "    </tr>\n",
       "    <tr>\n",
       "      <th>4578</th>\n",
       "      <td>TV Show</td>\n",
       "      <td>Maribel Sánchez-Maroto</td>\n",
       "      <td>1</td>\n",
       "    </tr>\n",
       "    <tr>\n",
       "      <th>4579</th>\n",
       "      <td>TV Show</td>\n",
       "      <td>Mariano Barroso</td>\n",
       "      <td>1</td>\n",
       "    </tr>\n",
       "    <tr>\n",
       "      <th>4580</th>\n",
       "      <td>TV Show</td>\n",
       "      <td>Ziad Doueiri</td>\n",
       "      <td>1</td>\n",
       "    </tr>\n",
       "  </tbody>\n",
       "</table>\n",
       "<p>4581 rows × 3 columns</p>\n",
       "</div>"
      ],
      "text/plain": [
       "         type                director  count\n",
       "0       Movie               Not Given    173\n",
       "1       Movie           Rajiv Chilaka     19\n",
       "2       Movie  Raúl Campos, Jan Suter     18\n",
       "3       Movie             Suhas Kadav     16\n",
       "4       Movie            Marcus Raboy     15\n",
       "...       ...                     ...    ...\n",
       "4576  TV Show           Mark Tonderai      1\n",
       "4577  TV Show              Mark Lewis      1\n",
       "4578  TV Show  Maribel Sánchez-Maroto      1\n",
       "4579  TV Show         Mariano Barroso      1\n",
       "4580  TV Show            Ziad Doueiri      1\n",
       "\n",
       "[4581 rows x 3 columns]"
      ]
     },
     "execution_count": 15,
     "metadata": {},
     "output_type": "execute_result"
    }
   ],
   "source": [
    "data.groupby('type')['director'].value_counts().reset_index()"
   ]
  },
  {
   "cell_type": "code",
   "execution_count": 16,
   "id": "d0b5f703",
   "metadata": {
    "execution": {
     "iopub.execute_input": "2023-10-09T20:52:52.351062Z",
     "iopub.status.busy": "2023-10-09T20:52:52.350678Z",
     "iopub.status.idle": "2023-10-09T20:52:52.376767Z",
     "shell.execute_reply": "2023-10-09T20:52:52.375907Z"
    },
    "papermill": {
     "duration": 0.042006,
     "end_time": "2023-10-09T20:52:52.378621",
     "exception": false,
     "start_time": "2023-10-09T20:52:52.336615",
     "status": "completed"
    },
    "tags": []
   },
   "outputs": [
    {
     "data": {
      "text/html": [
       "<div>\n",
       "<style scoped>\n",
       "    .dataframe tbody tr th:only-of-type {\n",
       "        vertical-align: middle;\n",
       "    }\n",
       "\n",
       "    .dataframe tbody tr th {\n",
       "        vertical-align: top;\n",
       "    }\n",
       "\n",
       "    .dataframe thead th {\n",
       "        text-align: right;\n",
       "    }\n",
       "</style>\n",
       "<table border=\"1\" class=\"dataframe\">\n",
       "  <thead>\n",
       "    <tr style=\"text-align: right;\">\n",
       "      <th></th>\n",
       "      <th>type</th>\n",
       "      <th>director</th>\n",
       "      <th>count</th>\n",
       "    </tr>\n",
       "  </thead>\n",
       "  <tbody>\n",
       "    <tr>\n",
       "      <th>0</th>\n",
       "      <td>Movie</td>\n",
       "      <td>Rajiv Chilaka</td>\n",
       "      <td>19</td>\n",
       "    </tr>\n",
       "    <tr>\n",
       "      <th>1</th>\n",
       "      <td>Movie</td>\n",
       "      <td>Raúl Campos, Jan Suter</td>\n",
       "      <td>18</td>\n",
       "    </tr>\n",
       "    <tr>\n",
       "      <th>2</th>\n",
       "      <td>Movie</td>\n",
       "      <td>Suhas Kadav</td>\n",
       "      <td>16</td>\n",
       "    </tr>\n",
       "    <tr>\n",
       "      <th>3</th>\n",
       "      <td>Movie</td>\n",
       "      <td>Marcus Raboy</td>\n",
       "      <td>15</td>\n",
       "    </tr>\n",
       "    <tr>\n",
       "      <th>4</th>\n",
       "      <td>Movie</td>\n",
       "      <td>Jay Karas</td>\n",
       "      <td>14</td>\n",
       "    </tr>\n",
       "    <tr>\n",
       "      <th>...</th>\n",
       "      <td>...</td>\n",
       "      <td>...</td>\n",
       "      <td>...</td>\n",
       "    </tr>\n",
       "    <tr>\n",
       "      <th>4574</th>\n",
       "      <td>Movie</td>\n",
       "      <td>Richard Curtis</td>\n",
       "      <td>1</td>\n",
       "    </tr>\n",
       "    <tr>\n",
       "      <th>4575</th>\n",
       "      <td>Movie</td>\n",
       "      <td>William Wyler, John Sturges</td>\n",
       "      <td>1</td>\n",
       "    </tr>\n",
       "    <tr>\n",
       "      <th>4576</th>\n",
       "      <td>Movie</td>\n",
       "      <td>Richard Donner</td>\n",
       "      <td>1</td>\n",
       "    </tr>\n",
       "    <tr>\n",
       "      <th>4577</th>\n",
       "      <td>Movie</td>\n",
       "      <td>Richard Finn, Tim Maltby</td>\n",
       "      <td>1</td>\n",
       "    </tr>\n",
       "    <tr>\n",
       "      <th>4578</th>\n",
       "      <td>TV Show</td>\n",
       "      <td>Ziad Doueiri</td>\n",
       "      <td>1</td>\n",
       "    </tr>\n",
       "  </tbody>\n",
       "</table>\n",
       "<p>4579 rows × 3 columns</p>\n",
       "</div>"
      ],
      "text/plain": [
       "         type                     director  count\n",
       "0       Movie                Rajiv Chilaka     19\n",
       "1       Movie       Raúl Campos, Jan Suter     18\n",
       "2       Movie                  Suhas Kadav     16\n",
       "3       Movie                 Marcus Raboy     15\n",
       "4       Movie                    Jay Karas     14\n",
       "...       ...                          ...    ...\n",
       "4574    Movie               Richard Curtis      1\n",
       "4575    Movie  William Wyler, John Sturges      1\n",
       "4576    Movie               Richard Donner      1\n",
       "4577    Movie     Richard Finn, Tim Maltby      1\n",
       "4578  TV Show                 Ziad Doueiri      1\n",
       "\n",
       "[4579 rows x 3 columns]"
      ]
     },
     "execution_count": 16,
     "metadata": {},
     "output_type": "execute_result"
    }
   ],
   "source": [
    "directors = data[data['director'] != 'Not Given'][['type','director']].value_counts().sort_values(ascending=False).reset_index()\n",
    "directors"
   ]
  },
  {
   "cell_type": "code",
   "execution_count": 17,
   "id": "f2f1edb2",
   "metadata": {
    "execution": {
     "iopub.execute_input": "2023-10-09T20:52:52.403229Z",
     "iopub.status.busy": "2023-10-09T20:52:52.402125Z",
     "iopub.status.idle": "2023-10-09T20:52:52.413556Z",
     "shell.execute_reply": "2023-10-09T20:52:52.412256Z"
    },
    "papermill": {
     "duration": 0.025907,
     "end_time": "2023-10-09T20:52:52.415877",
     "exception": false,
     "start_time": "2023-10-09T20:52:52.389970",
     "status": "completed"
    },
    "tags": []
   },
   "outputs": [
    {
     "data": {
      "text/html": [
       "<div>\n",
       "<style scoped>\n",
       "    .dataframe tbody tr th:only-of-type {\n",
       "        vertical-align: middle;\n",
       "    }\n",
       "\n",
       "    .dataframe tbody tr th {\n",
       "        vertical-align: top;\n",
       "    }\n",
       "\n",
       "    .dataframe thead th {\n",
       "        text-align: right;\n",
       "    }\n",
       "</style>\n",
       "<table border=\"1\" class=\"dataframe\">\n",
       "  <thead>\n",
       "    <tr style=\"text-align: right;\">\n",
       "      <th></th>\n",
       "      <th>type</th>\n",
       "      <th>director</th>\n",
       "      <th>count</th>\n",
       "    </tr>\n",
       "  </thead>\n",
       "  <tbody>\n",
       "    <tr>\n",
       "      <th>0</th>\n",
       "      <td>Movie</td>\n",
       "      <td>Rajiv Chilaka</td>\n",
       "      <td>19</td>\n",
       "    </tr>\n",
       "    <tr>\n",
       "      <th>1</th>\n",
       "      <td>Movie</td>\n",
       "      <td>Raúl Campos, Jan Suter</td>\n",
       "      <td>18</td>\n",
       "    </tr>\n",
       "    <tr>\n",
       "      <th>2</th>\n",
       "      <td>Movie</td>\n",
       "      <td>Suhas Kadav</td>\n",
       "      <td>16</td>\n",
       "    </tr>\n",
       "    <tr>\n",
       "      <th>3</th>\n",
       "      <td>Movie</td>\n",
       "      <td>Marcus Raboy</td>\n",
       "      <td>15</td>\n",
       "    </tr>\n",
       "    <tr>\n",
       "      <th>4</th>\n",
       "      <td>Movie</td>\n",
       "      <td>Jay Karas</td>\n",
       "      <td>14</td>\n",
       "    </tr>\n",
       "    <tr>\n",
       "      <th>5</th>\n",
       "      <td>TV Show</td>\n",
       "      <td>Alastair Fothergill</td>\n",
       "      <td>14</td>\n",
       "    </tr>\n",
       "    <tr>\n",
       "      <th>6</th>\n",
       "      <td>Movie</td>\n",
       "      <td>Cathy Garcia-Molina</td>\n",
       "      <td>13</td>\n",
       "    </tr>\n",
       "    <tr>\n",
       "      <th>7</th>\n",
       "      <td>Movie</td>\n",
       "      <td>Youssef Chahine</td>\n",
       "      <td>12</td>\n",
       "    </tr>\n",
       "    <tr>\n",
       "      <th>8</th>\n",
       "      <td>Movie</td>\n",
       "      <td>Martin Scorsese</td>\n",
       "      <td>12</td>\n",
       "    </tr>\n",
       "    <tr>\n",
       "      <th>9</th>\n",
       "      <td>Movie</td>\n",
       "      <td>Jay Chapman</td>\n",
       "      <td>12</td>\n",
       "    </tr>\n",
       "  </tbody>\n",
       "</table>\n",
       "</div>"
      ],
      "text/plain": [
       "      type                director  count\n",
       "0    Movie           Rajiv Chilaka     19\n",
       "1    Movie  Raúl Campos, Jan Suter     18\n",
       "2    Movie             Suhas Kadav     16\n",
       "3    Movie            Marcus Raboy     15\n",
       "4    Movie               Jay Karas     14\n",
       "5  TV Show     Alastair Fothergill     14\n",
       "6    Movie     Cathy Garcia-Molina     13\n",
       "7    Movie         Youssef Chahine     12\n",
       "8    Movie         Martin Scorsese     12\n",
       "9    Movie             Jay Chapman     12"
      ]
     },
     "execution_count": 17,
     "metadata": {},
     "output_type": "execute_result"
    }
   ],
   "source": [
    "top_10_directors = directors.head(10)\n",
    "top_10_directors"
   ]
  },
  {
   "cell_type": "code",
   "execution_count": 18,
   "id": "c8e99ee7",
   "metadata": {
    "execution": {
     "iopub.execute_input": "2023-10-09T20:52:52.442585Z",
     "iopub.status.busy": "2023-10-09T20:52:52.441707Z",
     "iopub.status.idle": "2023-10-09T20:52:52.454870Z",
     "shell.execute_reply": "2023-10-09T20:52:52.453490Z"
    },
    "papermill": {
     "duration": 0.029082,
     "end_time": "2023-10-09T20:52:52.457179",
     "exception": false,
     "start_time": "2023-10-09T20:52:52.428097",
     "status": "completed"
    },
    "tags": []
   },
   "outputs": [
    {
     "data": {
      "text/html": [
       "<div>\n",
       "<style scoped>\n",
       "    .dataframe tbody tr th:only-of-type {\n",
       "        vertical-align: middle;\n",
       "    }\n",
       "\n",
       "    .dataframe tbody tr th {\n",
       "        vertical-align: top;\n",
       "    }\n",
       "\n",
       "    .dataframe thead th {\n",
       "        text-align: right;\n",
       "    }\n",
       "</style>\n",
       "<table border=\"1\" class=\"dataframe\">\n",
       "  <thead>\n",
       "    <tr style=\"text-align: right;\">\n",
       "      <th></th>\n",
       "      <th>type</th>\n",
       "      <th>director</th>\n",
       "      <th>count</th>\n",
       "    </tr>\n",
       "  </thead>\n",
       "  <tbody>\n",
       "    <tr>\n",
       "      <th>0</th>\n",
       "      <td>Movie</td>\n",
       "      <td>Rajiv Chilaka</td>\n",
       "      <td>19</td>\n",
       "    </tr>\n",
       "    <tr>\n",
       "      <th>1</th>\n",
       "      <td>Movie</td>\n",
       "      <td>Raúl Campos, Jan Suter</td>\n",
       "      <td>18</td>\n",
       "    </tr>\n",
       "    <tr>\n",
       "      <th>2</th>\n",
       "      <td>Movie</td>\n",
       "      <td>Suhas Kadav</td>\n",
       "      <td>16</td>\n",
       "    </tr>\n",
       "    <tr>\n",
       "      <th>3</th>\n",
       "      <td>Movie</td>\n",
       "      <td>Marcus Raboy</td>\n",
       "      <td>15</td>\n",
       "    </tr>\n",
       "    <tr>\n",
       "      <th>4</th>\n",
       "      <td>Movie</td>\n",
       "      <td>Jay Karas</td>\n",
       "      <td>14</td>\n",
       "    </tr>\n",
       "    <tr>\n",
       "      <th>6</th>\n",
       "      <td>Movie</td>\n",
       "      <td>Cathy Garcia-Molina</td>\n",
       "      <td>13</td>\n",
       "    </tr>\n",
       "    <tr>\n",
       "      <th>7</th>\n",
       "      <td>Movie</td>\n",
       "      <td>Youssef Chahine</td>\n",
       "      <td>12</td>\n",
       "    </tr>\n",
       "    <tr>\n",
       "      <th>8</th>\n",
       "      <td>Movie</td>\n",
       "      <td>Martin Scorsese</td>\n",
       "      <td>12</td>\n",
       "    </tr>\n",
       "    <tr>\n",
       "      <th>9</th>\n",
       "      <td>Movie</td>\n",
       "      <td>Jay Chapman</td>\n",
       "      <td>12</td>\n",
       "    </tr>\n",
       "    <tr>\n",
       "      <th>10</th>\n",
       "      <td>Movie</td>\n",
       "      <td>Steven Spielberg</td>\n",
       "      <td>11</td>\n",
       "    </tr>\n",
       "  </tbody>\n",
       "</table>\n",
       "</div>"
      ],
      "text/plain": [
       "     type                director  count\n",
       "0   Movie           Rajiv Chilaka     19\n",
       "1   Movie  Raúl Campos, Jan Suter     18\n",
       "2   Movie             Suhas Kadav     16\n",
       "3   Movie            Marcus Raboy     15\n",
       "4   Movie               Jay Karas     14\n",
       "6   Movie     Cathy Garcia-Molina     13\n",
       "7   Movie         Youssef Chahine     12\n",
       "8   Movie         Martin Scorsese     12\n",
       "9   Movie             Jay Chapman     12\n",
       "10  Movie        Steven Spielberg     11"
      ]
     },
     "execution_count": 18,
     "metadata": {},
     "output_type": "execute_result"
    }
   ],
   "source": [
    "top_10_movie_directors = directors[directors['type'] == 'Movie'].head(10)\n",
    "top_10_movie_directors"
   ]
  },
  {
   "cell_type": "code",
   "execution_count": 19,
   "id": "35967b0b",
   "metadata": {
    "execution": {
     "iopub.execute_input": "2023-10-09T20:52:52.485319Z",
     "iopub.status.busy": "2023-10-09T20:52:52.484191Z",
     "iopub.status.idle": "2023-10-09T20:52:52.497788Z",
     "shell.execute_reply": "2023-10-09T20:52:52.496460Z"
    },
    "papermill": {
     "duration": 0.028658,
     "end_time": "2023-10-09T20:52:52.499844",
     "exception": false,
     "start_time": "2023-10-09T20:52:52.471186",
     "status": "completed"
    },
    "tags": []
   },
   "outputs": [
    {
     "data": {
      "text/html": [
       "<div>\n",
       "<style scoped>\n",
       "    .dataframe tbody tr th:only-of-type {\n",
       "        vertical-align: middle;\n",
       "    }\n",
       "\n",
       "    .dataframe tbody tr th {\n",
       "        vertical-align: top;\n",
       "    }\n",
       "\n",
       "    .dataframe thead th {\n",
       "        text-align: right;\n",
       "    }\n",
       "</style>\n",
       "<table border=\"1\" class=\"dataframe\">\n",
       "  <thead>\n",
       "    <tr style=\"text-align: right;\">\n",
       "      <th></th>\n",
       "      <th>type</th>\n",
       "      <th>director</th>\n",
       "      <th>count</th>\n",
       "    </tr>\n",
       "  </thead>\n",
       "  <tbody>\n",
       "    <tr>\n",
       "      <th>5</th>\n",
       "      <td>TV Show</td>\n",
       "      <td>Alastair Fothergill</td>\n",
       "      <td>14</td>\n",
       "    </tr>\n",
       "    <tr>\n",
       "      <th>80</th>\n",
       "      <td>TV Show</td>\n",
       "      <td>Mark Thornton, Todd Kauffman</td>\n",
       "      <td>5</td>\n",
       "    </tr>\n",
       "    <tr>\n",
       "      <th>183</th>\n",
       "      <td>TV Show</td>\n",
       "      <td>Stan Lathan</td>\n",
       "      <td>3</td>\n",
       "    </tr>\n",
       "    <tr>\n",
       "      <th>475</th>\n",
       "      <td>TV Show</td>\n",
       "      <td>Hsu Fu-chun</td>\n",
       "      <td>2</td>\n",
       "    </tr>\n",
       "    <tr>\n",
       "      <th>476</th>\n",
       "      <td>TV Show</td>\n",
       "      <td>Iginio Straffi</td>\n",
       "      <td>2</td>\n",
       "    </tr>\n",
       "    <tr>\n",
       "      <th>533</th>\n",
       "      <td>TV Show</td>\n",
       "      <td>Shin Won-ho</td>\n",
       "      <td>2</td>\n",
       "    </tr>\n",
       "    <tr>\n",
       "      <th>547</th>\n",
       "      <td>TV Show</td>\n",
       "      <td>Ken Burns</td>\n",
       "      <td>2</td>\n",
       "    </tr>\n",
       "    <tr>\n",
       "      <th>561</th>\n",
       "      <td>TV Show</td>\n",
       "      <td>Rob Seidenglanz</td>\n",
       "      <td>2</td>\n",
       "    </tr>\n",
       "    <tr>\n",
       "      <th>2714</th>\n",
       "      <td>TV Show</td>\n",
       "      <td>Juan Carlos Medina</td>\n",
       "      <td>1</td>\n",
       "    </tr>\n",
       "    <tr>\n",
       "      <th>2721</th>\n",
       "      <td>TV Show</td>\n",
       "      <td>Thomas Astruc</td>\n",
       "      <td>1</td>\n",
       "    </tr>\n",
       "  </tbody>\n",
       "</table>\n",
       "</div>"
      ],
      "text/plain": [
       "         type                      director  count\n",
       "5     TV Show           Alastair Fothergill     14\n",
       "80    TV Show  Mark Thornton, Todd Kauffman      5\n",
       "183   TV Show                   Stan Lathan      3\n",
       "475   TV Show                   Hsu Fu-chun      2\n",
       "476   TV Show                Iginio Straffi      2\n",
       "533   TV Show                   Shin Won-ho      2\n",
       "547   TV Show                     Ken Burns      2\n",
       "561   TV Show               Rob Seidenglanz      2\n",
       "2714  TV Show            Juan Carlos Medina      1\n",
       "2721  TV Show                 Thomas Astruc      1"
      ]
     },
     "execution_count": 19,
     "metadata": {},
     "output_type": "execute_result"
    }
   ],
   "source": [
    "top_10_TV_shows_directors = directors[directors['type'] == 'TV Show'].head(10)\n",
    "top_10_TV_shows_directors"
   ]
  },
  {
   "cell_type": "code",
   "execution_count": 20,
   "id": "74882b2b",
   "metadata": {
    "execution": {
     "iopub.execute_input": "2023-10-09T20:52:52.524312Z",
     "iopub.status.busy": "2023-10-09T20:52:52.523903Z",
     "iopub.status.idle": "2023-10-09T20:52:52.532817Z",
     "shell.execute_reply": "2023-10-09T20:52:52.531664Z"
    },
    "papermill": {
     "duration": 0.023521,
     "end_time": "2023-10-09T20:52:52.534709",
     "exception": false,
     "start_time": "2023-10-09T20:52:52.511188",
     "status": "completed"
    },
    "tags": []
   },
   "outputs": [
    {
     "data": {
      "text/plain": [
       "array(['United States', 'France', 'Brazil', 'United Kingdom', 'India',\n",
       "       'Germany', 'Pakistan', 'Not Given', 'China', 'South Africa',\n",
       "       'Japan', 'Nigeria', 'Spain', 'Philippines', 'Australia',\n",
       "       'Argentina', 'Canada', 'Hong Kong', 'Italy', 'New Zealand',\n",
       "       'Egypt', 'Colombia', 'Mexico', 'Belgium', 'Switzerland', 'Taiwan',\n",
       "       'Bulgaria', 'Poland', 'South Korea', 'Saudi Arabia', 'Thailand',\n",
       "       'Indonesia', 'Kuwait', 'Malaysia', 'Vietnam', 'Lebanon', 'Romania',\n",
       "       'Syria', 'United Arab Emirates', 'Sweden', 'Mauritius', 'Austria',\n",
       "       'Turkey', 'Czech Republic', 'Cameroon', 'Netherlands', 'Ireland',\n",
       "       'Russia', 'Kenya', 'Chile', 'Uruguay', 'Bangladesh', 'Portugal',\n",
       "       'Hungary', 'Norway', 'Singapore', 'Iceland', 'Serbia', 'Namibia',\n",
       "       'Peru', 'Mozambique', 'Ghana', 'Zimbabwe', 'Israel', 'Finland',\n",
       "       'Denmark', 'Paraguay', 'Cambodia', 'Georgia', 'Soviet Union',\n",
       "       'Greece', 'West Germany', 'Iran', 'Venezuela', 'Slovenia',\n",
       "       'Guatemala', 'Jamaica', 'Somalia', 'Croatia', 'Jordan',\n",
       "       'Luxembourg', 'Senegal', 'Belarus', 'Puerto Rico', 'Cyprus',\n",
       "       'Ukraine'], dtype=object)"
      ]
     },
     "execution_count": 20,
     "metadata": {},
     "output_type": "execute_result"
    }
   ],
   "source": [
    "data['country'].unique()"
   ]
  },
  {
   "cell_type": "code",
   "execution_count": 21,
   "id": "56775988",
   "metadata": {
    "execution": {
     "iopub.execute_input": "2023-10-09T20:52:52.559931Z",
     "iopub.status.busy": "2023-10-09T20:52:52.558957Z",
     "iopub.status.idle": "2023-10-09T20:52:52.567277Z",
     "shell.execute_reply": "2023-10-09T20:52:52.566328Z"
    },
    "papermill": {
     "duration": 0.02297,
     "end_time": "2023-10-09T20:52:52.569139",
     "exception": false,
     "start_time": "2023-10-09T20:52:52.546169",
     "status": "completed"
    },
    "tags": []
   },
   "outputs": [
    {
     "data": {
      "text/plain": [
       "86"
      ]
     },
     "execution_count": 21,
     "metadata": {},
     "output_type": "execute_result"
    }
   ],
   "source": [
    "data['country'].nunique()"
   ]
  },
  {
   "cell_type": "code",
   "execution_count": 22,
   "id": "05ba3322",
   "metadata": {
    "execution": {
     "iopub.execute_input": "2023-10-09T20:52:52.594762Z",
     "iopub.status.busy": "2023-10-09T20:52:52.594428Z",
     "iopub.status.idle": "2023-10-09T20:52:52.602594Z",
     "shell.execute_reply": "2023-10-09T20:52:52.601316Z"
    },
    "papermill": {
     "duration": 0.023515,
     "end_time": "2023-10-09T20:52:52.604493",
     "exception": false,
     "start_time": "2023-10-09T20:52:52.580978",
     "status": "completed"
    },
    "tags": []
   },
   "outputs": [
    {
     "data": {
      "text/plain": [
       "array(['Kirsten Johnson', 'Julien Leclercq', 'Mike Flanagan', ...,\n",
       "       'Majid Al Ansari', 'Peter Hewitt', 'Mozez Singh'], dtype=object)"
      ]
     },
     "execution_count": 22,
     "metadata": {},
     "output_type": "execute_result"
    }
   ],
   "source": [
    "data['director'].unique()"
   ]
  },
  {
   "cell_type": "code",
   "execution_count": 23,
   "id": "998f975c",
   "metadata": {
    "execution": {
     "iopub.execute_input": "2023-10-09T20:52:52.629274Z",
     "iopub.status.busy": "2023-10-09T20:52:52.628873Z",
     "iopub.status.idle": "2023-10-09T20:52:52.637263Z",
     "shell.execute_reply": "2023-10-09T20:52:52.636213Z"
    },
    "papermill": {
     "duration": 0.02308,
     "end_time": "2023-10-09T20:52:52.639256",
     "exception": false,
     "start_time": "2023-10-09T20:52:52.616176",
     "status": "completed"
    },
    "tags": []
   },
   "outputs": [
    {
     "data": {
      "text/plain": [
       "4528"
      ]
     },
     "execution_count": 23,
     "metadata": {},
     "output_type": "execute_result"
    }
   ],
   "source": [
    "data['director'].nunique()"
   ]
  },
  {
   "cell_type": "code",
   "execution_count": 24,
   "id": "94158237",
   "metadata": {
    "execution": {
     "iopub.execute_input": "2023-10-09T20:52:52.664160Z",
     "iopub.status.busy": "2023-10-09T20:52:52.663763Z",
     "iopub.status.idle": "2023-10-09T20:52:52.671016Z",
     "shell.execute_reply": "2023-10-09T20:52:52.669873Z"
    },
    "papermill": {
     "duration": 0.02295,
     "end_time": "2023-10-09T20:52:52.673797",
     "exception": false,
     "start_time": "2023-10-09T20:52:52.650847",
     "status": "completed"
    },
    "tags": []
   },
   "outputs": [
    {
     "data": {
      "text/plain": [
       "array([2020, 2021, 1993, 2019, 2013, 2014, 2018, 1998, 2010, 2017, 1997,\n",
       "       1996, 1975, 1978, 1983, 1987, 2012, 2001, 2002, 2003, 2004, 2011,\n",
       "       2008, 2009, 2007, 2005, 2006, 2016, 1994, 2015, 1982, 1989, 1990,\n",
       "       1991, 1999, 1986, 1984, 1980, 1961, 2000, 1995, 1985, 1925, 1992,\n",
       "       1976, 1959, 1988, 1981, 1972, 1964, 1954, 1979, 1958, 1956, 1963,\n",
       "       1970, 1973, 1960, 1974, 1966, 1971, 1962, 1969, 1977, 1967, 1968,\n",
       "       1965, 1945, 1946, 1942, 1955, 1944, 1947, 1943])"
      ]
     },
     "execution_count": 24,
     "metadata": {},
     "output_type": "execute_result"
    }
   ],
   "source": [
    "data['release_year'].unique()"
   ]
  },
  {
   "cell_type": "code",
   "execution_count": 25,
   "id": "9b57c272",
   "metadata": {
    "execution": {
     "iopub.execute_input": "2023-10-09T20:52:52.701593Z",
     "iopub.status.busy": "2023-10-09T20:52:52.701217Z",
     "iopub.status.idle": "2023-10-09T20:52:52.708500Z",
     "shell.execute_reply": "2023-10-09T20:52:52.707302Z"
    },
    "papermill": {
     "duration": 0.024112,
     "end_time": "2023-10-09T20:52:52.710746",
     "exception": false,
     "start_time": "2023-10-09T20:52:52.686634",
     "status": "completed"
    },
    "tags": []
   },
   "outputs": [
    {
     "data": {
      "text/plain": [
       "74"
      ]
     },
     "execution_count": 25,
     "metadata": {},
     "output_type": "execute_result"
    }
   ],
   "source": [
    "data['release_year'].nunique()"
   ]
  },
  {
   "cell_type": "code",
   "execution_count": 26,
   "id": "32b7cd56",
   "metadata": {
    "execution": {
     "iopub.execute_input": "2023-10-09T20:52:52.736178Z",
     "iopub.status.busy": "2023-10-09T20:52:52.735839Z",
     "iopub.status.idle": "2023-10-09T20:52:52.756084Z",
     "shell.execute_reply": "2023-10-09T20:52:52.755298Z"
    },
    "papermill": {
     "duration": 0.035155,
     "end_time": "2023-10-09T20:52:52.757952",
     "exception": false,
     "start_time": "2023-10-09T20:52:52.722797",
     "status": "completed"
    },
    "tags": []
   },
   "outputs": [
    {
     "data": {
      "text/html": [
       "<div>\n",
       "<style scoped>\n",
       "    .dataframe tbody tr th:only-of-type {\n",
       "        vertical-align: middle;\n",
       "    }\n",
       "\n",
       "    .dataframe tbody tr th {\n",
       "        vertical-align: top;\n",
       "    }\n",
       "\n",
       "    .dataframe thead th {\n",
       "        text-align: right;\n",
       "    }\n",
       "</style>\n",
       "<table border=\"1\" class=\"dataframe\">\n",
       "  <thead>\n",
       "    <tr style=\"text-align: right;\">\n",
       "      <th></th>\n",
       "      <th>type</th>\n",
       "      <th>country</th>\n",
       "      <th>count</th>\n",
       "    </tr>\n",
       "  </thead>\n",
       "  <tbody>\n",
       "    <tr>\n",
       "      <th>0</th>\n",
       "      <td>Movie</td>\n",
       "      <td>United States</td>\n",
       "      <td>2395</td>\n",
       "    </tr>\n",
       "    <tr>\n",
       "      <th>1</th>\n",
       "      <td>Movie</td>\n",
       "      <td>India</td>\n",
       "      <td>976</td>\n",
       "    </tr>\n",
       "    <tr>\n",
       "      <th>2</th>\n",
       "      <td>TV Show</td>\n",
       "      <td>United States</td>\n",
       "      <td>845</td>\n",
       "    </tr>\n",
       "    <tr>\n",
       "      <th>3</th>\n",
       "      <td>Movie</td>\n",
       "      <td>United Kingdom</td>\n",
       "      <td>387</td>\n",
       "    </tr>\n",
       "    <tr>\n",
       "      <th>4</th>\n",
       "      <td>TV Show</td>\n",
       "      <td>Pakistan</td>\n",
       "      <td>350</td>\n",
       "    </tr>\n",
       "    <tr>\n",
       "      <th>...</th>\n",
       "      <td>...</td>\n",
       "      <td>...</td>\n",
       "      <td>...</td>\n",
       "    </tr>\n",
       "    <tr>\n",
       "      <th>131</th>\n",
       "      <td>Movie</td>\n",
       "      <td>Paraguay</td>\n",
       "      <td>1</td>\n",
       "    </tr>\n",
       "    <tr>\n",
       "      <th>132</th>\n",
       "      <td>TV Show</td>\n",
       "      <td>Switzerland</td>\n",
       "      <td>1</td>\n",
       "    </tr>\n",
       "    <tr>\n",
       "      <th>133</th>\n",
       "      <td>Movie</td>\n",
       "      <td>Namibia</td>\n",
       "      <td>1</td>\n",
       "    </tr>\n",
       "    <tr>\n",
       "      <th>134</th>\n",
       "      <td>Movie</td>\n",
       "      <td>Slovenia</td>\n",
       "      <td>1</td>\n",
       "    </tr>\n",
       "    <tr>\n",
       "      <th>135</th>\n",
       "      <td>TV Show</td>\n",
       "      <td>Uruguay</td>\n",
       "      <td>1</td>\n",
       "    </tr>\n",
       "  </tbody>\n",
       "</table>\n",
       "<p>136 rows × 3 columns</p>\n",
       "</div>"
      ],
      "text/plain": [
       "        type         country  count\n",
       "0      Movie   United States   2395\n",
       "1      Movie           India    976\n",
       "2    TV Show   United States    845\n",
       "3      Movie  United Kingdom    387\n",
       "4    TV Show        Pakistan    350\n",
       "..       ...             ...    ...\n",
       "131    Movie        Paraguay      1\n",
       "132  TV Show     Switzerland      1\n",
       "133    Movie         Namibia      1\n",
       "134    Movie        Slovenia      1\n",
       "135  TV Show         Uruguay      1\n",
       "\n",
       "[136 rows x 3 columns]"
      ]
     },
     "execution_count": 26,
     "metadata": {},
     "output_type": "execute_result"
    }
   ],
   "source": [
    "countries = data[data['country'] != 'Not Given'][['type','country']].value_counts().sort_values(ascending=False).reset_index()\n",
    "countries"
   ]
  },
  {
   "cell_type": "code",
   "execution_count": 27,
   "id": "2ea1aa95",
   "metadata": {
    "execution": {
     "iopub.execute_input": "2023-10-09T20:52:52.784211Z",
     "iopub.status.busy": "2023-10-09T20:52:52.783803Z",
     "iopub.status.idle": "2023-10-09T20:52:52.794710Z",
     "shell.execute_reply": "2023-10-09T20:52:52.793462Z"
    },
    "papermill": {
     "duration": 0.026904,
     "end_time": "2023-10-09T20:52:52.797174",
     "exception": false,
     "start_time": "2023-10-09T20:52:52.770270",
     "status": "completed"
    },
    "tags": []
   },
   "outputs": [
    {
     "data": {
      "text/html": [
       "<div>\n",
       "<style scoped>\n",
       "    .dataframe tbody tr th:only-of-type {\n",
       "        vertical-align: middle;\n",
       "    }\n",
       "\n",
       "    .dataframe tbody tr th {\n",
       "        vertical-align: top;\n",
       "    }\n",
       "\n",
       "    .dataframe thead th {\n",
       "        text-align: right;\n",
       "    }\n",
       "</style>\n",
       "<table border=\"1\" class=\"dataframe\">\n",
       "  <thead>\n",
       "    <tr style=\"text-align: right;\">\n",
       "      <th></th>\n",
       "      <th>type</th>\n",
       "      <th>country</th>\n",
       "      <th>count</th>\n",
       "    </tr>\n",
       "  </thead>\n",
       "  <tbody>\n",
       "    <tr>\n",
       "      <th>0</th>\n",
       "      <td>Movie</td>\n",
       "      <td>United States</td>\n",
       "      <td>2395</td>\n",
       "    </tr>\n",
       "    <tr>\n",
       "      <th>1</th>\n",
       "      <td>Movie</td>\n",
       "      <td>India</td>\n",
       "      <td>976</td>\n",
       "    </tr>\n",
       "    <tr>\n",
       "      <th>2</th>\n",
       "      <td>TV Show</td>\n",
       "      <td>United States</td>\n",
       "      <td>845</td>\n",
       "    </tr>\n",
       "    <tr>\n",
       "      <th>3</th>\n",
       "      <td>Movie</td>\n",
       "      <td>United Kingdom</td>\n",
       "      <td>387</td>\n",
       "    </tr>\n",
       "    <tr>\n",
       "      <th>4</th>\n",
       "      <td>TV Show</td>\n",
       "      <td>Pakistan</td>\n",
       "      <td>350</td>\n",
       "    </tr>\n",
       "    <tr>\n",
       "      <th>5</th>\n",
       "      <td>TV Show</td>\n",
       "      <td>United Kingdom</td>\n",
       "      <td>251</td>\n",
       "    </tr>\n",
       "    <tr>\n",
       "      <th>6</th>\n",
       "      <td>Movie</td>\n",
       "      <td>Canada</td>\n",
       "      <td>187</td>\n",
       "    </tr>\n",
       "    <tr>\n",
       "      <th>7</th>\n",
       "      <td>TV Show</td>\n",
       "      <td>Japan</td>\n",
       "      <td>172</td>\n",
       "    </tr>\n",
       "    <tr>\n",
       "      <th>8</th>\n",
       "      <td>TV Show</td>\n",
       "      <td>South Korea</td>\n",
       "      <td>165</td>\n",
       "    </tr>\n",
       "    <tr>\n",
       "      <th>9</th>\n",
       "      <td>Movie</td>\n",
       "      <td>France</td>\n",
       "      <td>148</td>\n",
       "    </tr>\n",
       "  </tbody>\n",
       "</table>\n",
       "</div>"
      ],
      "text/plain": [
       "      type         country  count\n",
       "0    Movie   United States   2395\n",
       "1    Movie           India    976\n",
       "2  TV Show   United States    845\n",
       "3    Movie  United Kingdom    387\n",
       "4  TV Show        Pakistan    350\n",
       "5  TV Show  United Kingdom    251\n",
       "6    Movie          Canada    187\n",
       "7  TV Show           Japan    172\n",
       "8  TV Show     South Korea    165\n",
       "9    Movie          France    148"
      ]
     },
     "execution_count": 27,
     "metadata": {},
     "output_type": "execute_result"
    }
   ],
   "source": [
    "top_10_countries = countries.head(10)\n",
    "top_10_countries"
   ]
  },
  {
   "cell_type": "code",
   "execution_count": 28,
   "id": "5510e03a",
   "metadata": {
    "execution": {
     "iopub.execute_input": "2023-10-09T20:52:52.824404Z",
     "iopub.status.busy": "2023-10-09T20:52:52.823150Z",
     "iopub.status.idle": "2023-10-09T20:52:52.834778Z",
     "shell.execute_reply": "2023-10-09T20:52:52.833831Z"
    },
    "papermill": {
     "duration": 0.026979,
     "end_time": "2023-10-09T20:52:52.836622",
     "exception": false,
     "start_time": "2023-10-09T20:52:52.809643",
     "status": "completed"
    },
    "tags": []
   },
   "outputs": [
    {
     "data": {
      "text/html": [
       "<div>\n",
       "<style scoped>\n",
       "    .dataframe tbody tr th:only-of-type {\n",
       "        vertical-align: middle;\n",
       "    }\n",
       "\n",
       "    .dataframe tbody tr th {\n",
       "        vertical-align: top;\n",
       "    }\n",
       "\n",
       "    .dataframe thead th {\n",
       "        text-align: right;\n",
       "    }\n",
       "</style>\n",
       "<table border=\"1\" class=\"dataframe\">\n",
       "  <thead>\n",
       "    <tr style=\"text-align: right;\">\n",
       "      <th></th>\n",
       "      <th>type</th>\n",
       "      <th>country</th>\n",
       "      <th>count</th>\n",
       "    </tr>\n",
       "  </thead>\n",
       "  <tbody>\n",
       "    <tr>\n",
       "      <th>0</th>\n",
       "      <td>Movie</td>\n",
       "      <td>United States</td>\n",
       "      <td>2395</td>\n",
       "    </tr>\n",
       "    <tr>\n",
       "      <th>1</th>\n",
       "      <td>Movie</td>\n",
       "      <td>India</td>\n",
       "      <td>976</td>\n",
       "    </tr>\n",
       "    <tr>\n",
       "      <th>3</th>\n",
       "      <td>Movie</td>\n",
       "      <td>United Kingdom</td>\n",
       "      <td>387</td>\n",
       "    </tr>\n",
       "    <tr>\n",
       "      <th>6</th>\n",
       "      <td>Movie</td>\n",
       "      <td>Canada</td>\n",
       "      <td>187</td>\n",
       "    </tr>\n",
       "    <tr>\n",
       "      <th>9</th>\n",
       "      <td>Movie</td>\n",
       "      <td>France</td>\n",
       "      <td>148</td>\n",
       "    </tr>\n",
       "    <tr>\n",
       "      <th>10</th>\n",
       "      <td>Movie</td>\n",
       "      <td>Spain</td>\n",
       "      <td>129</td>\n",
       "    </tr>\n",
       "    <tr>\n",
       "      <th>11</th>\n",
       "      <td>Movie</td>\n",
       "      <td>Egypt</td>\n",
       "      <td>109</td>\n",
       "    </tr>\n",
       "    <tr>\n",
       "      <th>12</th>\n",
       "      <td>Movie</td>\n",
       "      <td>Nigeria</td>\n",
       "      <td>96</td>\n",
       "    </tr>\n",
       "    <tr>\n",
       "      <th>13</th>\n",
       "      <td>Movie</td>\n",
       "      <td>Mexico</td>\n",
       "      <td>90</td>\n",
       "    </tr>\n",
       "    <tr>\n",
       "      <th>14</th>\n",
       "      <td>Movie</td>\n",
       "      <td>Japan</td>\n",
       "      <td>87</td>\n",
       "    </tr>\n",
       "  </tbody>\n",
       "</table>\n",
       "</div>"
      ],
      "text/plain": [
       "     type         country  count\n",
       "0   Movie   United States   2395\n",
       "1   Movie           India    976\n",
       "3   Movie  United Kingdom    387\n",
       "6   Movie          Canada    187\n",
       "9   Movie          France    148\n",
       "10  Movie           Spain    129\n",
       "11  Movie           Egypt    109\n",
       "12  Movie         Nigeria     96\n",
       "13  Movie          Mexico     90\n",
       "14  Movie           Japan     87"
      ]
     },
     "execution_count": 28,
     "metadata": {},
     "output_type": "execute_result"
    }
   ],
   "source": [
    "top_10_movie_countries = countries[countries['type'] == 'Movie'].head(10)\n",
    "top_10_movie_countries"
   ]
  },
  {
   "cell_type": "code",
   "execution_count": 29,
   "id": "23ac8e27",
   "metadata": {
    "execution": {
     "iopub.execute_input": "2023-10-09T20:52:52.867589Z",
     "iopub.status.busy": "2023-10-09T20:52:52.867226Z",
     "iopub.status.idle": "2023-10-09T20:52:52.877886Z",
     "shell.execute_reply": "2023-10-09T20:52:52.877100Z"
    },
    "papermill": {
     "duration": 0.027899,
     "end_time": "2023-10-09T20:52:52.879649",
     "exception": false,
     "start_time": "2023-10-09T20:52:52.851750",
     "status": "completed"
    },
    "tags": []
   },
   "outputs": [
    {
     "data": {
      "text/html": [
       "<div>\n",
       "<style scoped>\n",
       "    .dataframe tbody tr th:only-of-type {\n",
       "        vertical-align: middle;\n",
       "    }\n",
       "\n",
       "    .dataframe tbody tr th {\n",
       "        vertical-align: top;\n",
       "    }\n",
       "\n",
       "    .dataframe thead th {\n",
       "        text-align: right;\n",
       "    }\n",
       "</style>\n",
       "<table border=\"1\" class=\"dataframe\">\n",
       "  <thead>\n",
       "    <tr style=\"text-align: right;\">\n",
       "      <th></th>\n",
       "      <th>type</th>\n",
       "      <th>country</th>\n",
       "      <th>count</th>\n",
       "    </tr>\n",
       "  </thead>\n",
       "  <tbody>\n",
       "    <tr>\n",
       "      <th>2</th>\n",
       "      <td>TV Show</td>\n",
       "      <td>United States</td>\n",
       "      <td>845</td>\n",
       "    </tr>\n",
       "    <tr>\n",
       "      <th>4</th>\n",
       "      <td>TV Show</td>\n",
       "      <td>Pakistan</td>\n",
       "      <td>350</td>\n",
       "    </tr>\n",
       "    <tr>\n",
       "      <th>5</th>\n",
       "      <td>TV Show</td>\n",
       "      <td>United Kingdom</td>\n",
       "      <td>251</td>\n",
       "    </tr>\n",
       "    <tr>\n",
       "      <th>7</th>\n",
       "      <td>TV Show</td>\n",
       "      <td>Japan</td>\n",
       "      <td>172</td>\n",
       "    </tr>\n",
       "    <tr>\n",
       "      <th>8</th>\n",
       "      <td>TV Show</td>\n",
       "      <td>South Korea</td>\n",
       "      <td>165</td>\n",
       "    </tr>\n",
       "    <tr>\n",
       "      <th>16</th>\n",
       "      <td>TV Show</td>\n",
       "      <td>Canada</td>\n",
       "      <td>84</td>\n",
       "    </tr>\n",
       "    <tr>\n",
       "      <th>18</th>\n",
       "      <td>TV Show</td>\n",
       "      <td>India</td>\n",
       "      <td>81</td>\n",
       "    </tr>\n",
       "    <tr>\n",
       "      <th>23</th>\n",
       "      <td>TV Show</td>\n",
       "      <td>Taiwan</td>\n",
       "      <td>71</td>\n",
       "    </tr>\n",
       "    <tr>\n",
       "      <th>24</th>\n",
       "      <td>TV Show</td>\n",
       "      <td>France</td>\n",
       "      <td>65</td>\n",
       "    </tr>\n",
       "    <tr>\n",
       "      <th>29</th>\n",
       "      <td>TV Show</td>\n",
       "      <td>Spain</td>\n",
       "      <td>53</td>\n",
       "    </tr>\n",
       "  </tbody>\n",
       "</table>\n",
       "</div>"
      ],
      "text/plain": [
       "       type         country  count\n",
       "2   TV Show   United States    845\n",
       "4   TV Show        Pakistan    350\n",
       "5   TV Show  United Kingdom    251\n",
       "7   TV Show           Japan    172\n",
       "8   TV Show     South Korea    165\n",
       "16  TV Show          Canada     84\n",
       "18  TV Show           India     81\n",
       "23  TV Show          Taiwan     71\n",
       "24  TV Show          France     65\n",
       "29  TV Show           Spain     53"
      ]
     },
     "execution_count": 29,
     "metadata": {},
     "output_type": "execute_result"
    }
   ],
   "source": [
    "top_10_TV_show_countries = countries[countries['type'] == 'TV Show'].head(10)\n",
    "top_10_TV_show_countries"
   ]
  },
  {
   "cell_type": "code",
   "execution_count": 30,
   "id": "5d8c2bf2",
   "metadata": {
    "execution": {
     "iopub.execute_input": "2023-10-09T20:52:52.911191Z",
     "iopub.status.busy": "2023-10-09T20:52:52.910808Z",
     "iopub.status.idle": "2023-10-09T20:52:52.924178Z",
     "shell.execute_reply": "2023-10-09T20:52:52.923116Z"
    },
    "papermill": {
     "duration": 0.032956,
     "end_time": "2023-10-09T20:52:52.926372",
     "exception": false,
     "start_time": "2023-10-09T20:52:52.893416",
     "status": "completed"
    },
    "tags": []
   },
   "outputs": [
    {
     "data": {
      "text/html": [
       "<div>\n",
       "<style scoped>\n",
       "    .dataframe tbody tr th:only-of-type {\n",
       "        vertical-align: middle;\n",
       "    }\n",
       "\n",
       "    .dataframe tbody tr th {\n",
       "        vertical-align: top;\n",
       "    }\n",
       "\n",
       "    .dataframe thead th {\n",
       "        text-align: right;\n",
       "    }\n",
       "</style>\n",
       "<table border=\"1\" class=\"dataframe\">\n",
       "  <thead>\n",
       "    <tr style=\"text-align: right;\">\n",
       "      <th></th>\n",
       "      <th>release_year</th>\n",
       "      <th>count</th>\n",
       "    </tr>\n",
       "  </thead>\n",
       "  <tbody>\n",
       "    <tr>\n",
       "      <th>0</th>\n",
       "      <td>2018</td>\n",
       "      <td>1146</td>\n",
       "    </tr>\n",
       "    <tr>\n",
       "      <th>1</th>\n",
       "      <td>2017</td>\n",
       "      <td>1030</td>\n",
       "    </tr>\n",
       "    <tr>\n",
       "      <th>2</th>\n",
       "      <td>2019</td>\n",
       "      <td>1030</td>\n",
       "    </tr>\n",
       "    <tr>\n",
       "      <th>3</th>\n",
       "      <td>2020</td>\n",
       "      <td>953</td>\n",
       "    </tr>\n",
       "    <tr>\n",
       "      <th>4</th>\n",
       "      <td>2016</td>\n",
       "      <td>901</td>\n",
       "    </tr>\n",
       "    <tr>\n",
       "      <th>...</th>\n",
       "      <td>...</td>\n",
       "      <td>...</td>\n",
       "    </tr>\n",
       "    <tr>\n",
       "      <th>69</th>\n",
       "      <td>1966</td>\n",
       "      <td>1</td>\n",
       "    </tr>\n",
       "    <tr>\n",
       "      <th>70</th>\n",
       "      <td>1959</td>\n",
       "      <td>1</td>\n",
       "    </tr>\n",
       "    <tr>\n",
       "      <th>71</th>\n",
       "      <td>1925</td>\n",
       "      <td>1</td>\n",
       "    </tr>\n",
       "    <tr>\n",
       "      <th>72</th>\n",
       "      <td>1947</td>\n",
       "      <td>1</td>\n",
       "    </tr>\n",
       "    <tr>\n",
       "      <th>73</th>\n",
       "      <td>1961</td>\n",
       "      <td>1</td>\n",
       "    </tr>\n",
       "  </tbody>\n",
       "</table>\n",
       "<p>74 rows × 2 columns</p>\n",
       "</div>"
      ],
      "text/plain": [
       "    release_year  count\n",
       "0           2018   1146\n",
       "1           2017   1030\n",
       "2           2019   1030\n",
       "3           2020    953\n",
       "4           2016    901\n",
       "..           ...    ...\n",
       "69          1966      1\n",
       "70          1959      1\n",
       "71          1925      1\n",
       "72          1947      1\n",
       "73          1961      1\n",
       "\n",
       "[74 rows x 2 columns]"
      ]
     },
     "execution_count": 30,
     "metadata": {},
     "output_type": "execute_result"
    }
   ],
   "source": [
    "release_years = data['release_year'].value_counts().sort_values(ascending = False).reset_index()\n",
    "release_years"
   ]
  },
  {
   "cell_type": "code",
   "execution_count": 31,
   "id": "a294de78",
   "metadata": {
    "execution": {
     "iopub.execute_input": "2023-10-09T20:52:52.957627Z",
     "iopub.status.busy": "2023-10-09T20:52:52.957292Z",
     "iopub.status.idle": "2023-10-09T20:52:52.965098Z",
     "shell.execute_reply": "2023-10-09T20:52:52.964449Z"
    },
    "papermill": {
     "duration": 0.02634,
     "end_time": "2023-10-09T20:52:52.966919",
     "exception": false,
     "start_time": "2023-10-09T20:52:52.940579",
     "status": "completed"
    },
    "tags": []
   },
   "outputs": [
    {
     "data": {
      "text/html": [
       "<div>\n",
       "<style scoped>\n",
       "    .dataframe tbody tr th:only-of-type {\n",
       "        vertical-align: middle;\n",
       "    }\n",
       "\n",
       "    .dataframe tbody tr th {\n",
       "        vertical-align: top;\n",
       "    }\n",
       "\n",
       "    .dataframe thead th {\n",
       "        text-align: right;\n",
       "    }\n",
       "</style>\n",
       "<table border=\"1\" class=\"dataframe\">\n",
       "  <thead>\n",
       "    <tr style=\"text-align: right;\">\n",
       "      <th></th>\n",
       "      <th>release_year</th>\n",
       "      <th>count</th>\n",
       "    </tr>\n",
       "  </thead>\n",
       "  <tbody>\n",
       "    <tr>\n",
       "      <th>0</th>\n",
       "      <td>2018</td>\n",
       "      <td>1146</td>\n",
       "    </tr>\n",
       "    <tr>\n",
       "      <th>1</th>\n",
       "      <td>2017</td>\n",
       "      <td>1030</td>\n",
       "    </tr>\n",
       "    <tr>\n",
       "      <th>2</th>\n",
       "      <td>2019</td>\n",
       "      <td>1030</td>\n",
       "    </tr>\n",
       "    <tr>\n",
       "      <th>3</th>\n",
       "      <td>2020</td>\n",
       "      <td>953</td>\n",
       "    </tr>\n",
       "    <tr>\n",
       "      <th>4</th>\n",
       "      <td>2016</td>\n",
       "      <td>901</td>\n",
       "    </tr>\n",
       "    <tr>\n",
       "      <th>5</th>\n",
       "      <td>2021</td>\n",
       "      <td>592</td>\n",
       "    </tr>\n",
       "    <tr>\n",
       "      <th>6</th>\n",
       "      <td>2015</td>\n",
       "      <td>555</td>\n",
       "    </tr>\n",
       "    <tr>\n",
       "      <th>7</th>\n",
       "      <td>2014</td>\n",
       "      <td>352</td>\n",
       "    </tr>\n",
       "    <tr>\n",
       "      <th>8</th>\n",
       "      <td>2013</td>\n",
       "      <td>286</td>\n",
       "    </tr>\n",
       "    <tr>\n",
       "      <th>9</th>\n",
       "      <td>2012</td>\n",
       "      <td>236</td>\n",
       "    </tr>\n",
       "  </tbody>\n",
       "</table>\n",
       "</div>"
      ],
      "text/plain": [
       "   release_year  count\n",
       "0          2018   1146\n",
       "1          2017   1030\n",
       "2          2019   1030\n",
       "3          2020    953\n",
       "4          2016    901\n",
       "5          2021    592\n",
       "6          2015    555\n",
       "7          2014    352\n",
       "8          2013    286\n",
       "9          2012    236"
      ]
     },
     "execution_count": 31,
     "metadata": {},
     "output_type": "execute_result"
    }
   ],
   "source": [
    "top_10_years = release_years.head(10)\n",
    "top_10_years"
   ]
  },
  {
   "cell_type": "code",
   "execution_count": 32,
   "id": "af6e76a6",
   "metadata": {
    "execution": {
     "iopub.execute_input": "2023-10-09T20:52:52.996588Z",
     "iopub.status.busy": "2023-10-09T20:52:52.996248Z",
     "iopub.status.idle": "2023-10-09T20:52:53.004320Z",
     "shell.execute_reply": "2023-10-09T20:52:53.003197Z"
    },
    "papermill": {
     "duration": 0.025403,
     "end_time": "2023-10-09T20:52:53.006406",
     "exception": false,
     "start_time": "2023-10-09T20:52:52.981003",
     "status": "completed"
    },
    "tags": []
   },
   "outputs": [
    {
     "data": {
      "text/plain": [
       "array(['90 min', '1 Season', '91 min', '125 min', '9 Seasons', '104 min',\n",
       "       '87 min', '127 min', '76 min', '71 min', '131 min', '39 min',\n",
       "       '36 min', '34 min', '35 min', '46 min', '67 min', '65 min',\n",
       "       '61 min', '166 min', '103 min', '97 min', '106 min', '2 Seasons',\n",
       "       '4 Seasons', '147 min', '94 min', '161 min', '111 min', '110 min',\n",
       "       '105 min', '96 min', '124 min', '116 min', '98 min', '115 min',\n",
       "       '122 min', '55 min', '99 min', '88 min', '100 min', '6 Seasons',\n",
       "       '3 Seasons', '23 min', '102 min', '93 min', '95 min', '85 min',\n",
       "       '83 min', '182 min', '5 Seasons', '92 min', '84 min', '48 min',\n",
       "       '145 min', '119 min', '80 min', '128 min', '143 min', '273 min',\n",
       "       '117 min', '114 min', '118 min', '108 min', '37 min', '121 min',\n",
       "       '63 min', '142 min', '113 min', '154 min', '120 min', '82 min',\n",
       "       '109 min', '101 min', '86 min', '77 min', '229 min', '15 min',\n",
       "       '89 min', '156 min', '112 min', '107 min', '129 min', '44 min',\n",
       "       '68 min', '135 min', '136 min', '165 min', '150 min', '133 min',\n",
       "       '47 min', '70 min', '56 min', '58 min', '78 min', '140 min',\n",
       "       '64 min', '59 min', '60 min', '69 min', '19 min', '22 min',\n",
       "       '148 min', '189 min', '54 min', '141 min', '130 min', '81 min',\n",
       "       '7 Seasons', '138 min', '132 min', '8 Seasons', '123 min',\n",
       "       '66 min', '62 min', '74 min', '38 min', '13 min', '139 min',\n",
       "       '126 min', '155 min', '159 min', '12 min', '137 min', '49 min',\n",
       "       '72 min', '204 min', '25 min', '212 min', '73 min', '149 min',\n",
       "       '224 min', '162 min', '75 min', '79 min', '32 min', '158 min',\n",
       "       '164 min', '173 min', '181 min', '185 min', '21 min', '24 min',\n",
       "       '51 min', '151 min', '42 min', '134 min', '177 min', '52 min',\n",
       "       '53 min', '8 min', '57 min', '28 min', '50 min', '9 min', '26 min',\n",
       "       '45 min', '171 min', '27 min', '33 min', '29 min', '146 min',\n",
       "       '20 min', '157 min', '203 min', '41 min', '30 min', '17 min',\n",
       "       '194 min', '15 Seasons', '233 min', '230 min', '237 min',\n",
       "       '195 min', '253 min', '152 min', '190 min', '160 min', '208 min',\n",
       "       '180 min', '144 min', '5 min', '174 min', '170 min', '192 min',\n",
       "       '209 min', '187 min', '172 min', '16 min', '186 min', '11 min',\n",
       "       '193 min', '176 min', '169 min', '40 min', '3 min', '168 min',\n",
       "       '153 min', '214 min', '31 min', '163 min', '14 min', '179 min',\n",
       "       '43 min', '200 min', '196 min', '167 min', '178 min', '228 min',\n",
       "       '18 min', '205 min', '201 min', '191 min', '10 Seasons',\n",
       "       '17 Seasons', '13 Seasons', '10 min', '312 min', '12 Seasons',\n",
       "       '11 Seasons'], dtype=object)"
      ]
     },
     "execution_count": 32,
     "metadata": {},
     "output_type": "execute_result"
    }
   ],
   "source": [
    "data['duration'].unique()"
   ]
  },
  {
   "cell_type": "code",
   "execution_count": 33,
   "id": "2a1296ad",
   "metadata": {
    "execution": {
     "iopub.execute_input": "2023-10-09T20:52:53.036974Z",
     "iopub.status.busy": "2023-10-09T20:52:53.036593Z",
     "iopub.status.idle": "2023-10-09T20:52:53.043868Z",
     "shell.execute_reply": "2023-10-09T20:52:53.042923Z"
    },
    "papermill": {
     "duration": 0.025326,
     "end_time": "2023-10-09T20:52:53.046089",
     "exception": false,
     "start_time": "2023-10-09T20:52:53.020763",
     "status": "completed"
    },
    "tags": []
   },
   "outputs": [
    {
     "data": {
      "text/plain": [
       "220"
      ]
     },
     "execution_count": 33,
     "metadata": {},
     "output_type": "execute_result"
    }
   ],
   "source": [
    "data['duration'].nunique()"
   ]
  },
  {
   "cell_type": "code",
   "execution_count": 34,
   "id": "77dda33a",
   "metadata": {
    "execution": {
     "iopub.execute_input": "2023-10-09T20:52:53.076802Z",
     "iopub.status.busy": "2023-10-09T20:52:53.076456Z",
     "iopub.status.idle": "2023-10-09T20:52:53.096194Z",
     "shell.execute_reply": "2023-10-09T20:52:53.094970Z"
    },
    "papermill": {
     "duration": 0.037916,
     "end_time": "2023-10-09T20:52:53.098548",
     "exception": false,
     "start_time": "2023-10-09T20:52:53.060632",
     "status": "completed"
    },
    "tags": []
   },
   "outputs": [
    {
     "data": {
      "text/html": [
       "<div>\n",
       "<style scoped>\n",
       "    .dataframe tbody tr th:only-of-type {\n",
       "        vertical-align: middle;\n",
       "    }\n",
       "\n",
       "    .dataframe tbody tr th {\n",
       "        vertical-align: top;\n",
       "    }\n",
       "\n",
       "    .dataframe thead th {\n",
       "        text-align: right;\n",
       "    }\n",
       "</style>\n",
       "<table border=\"1\" class=\"dataframe\">\n",
       "  <thead>\n",
       "    <tr style=\"text-align: right;\">\n",
       "      <th></th>\n",
       "      <th>type</th>\n",
       "      <th>duration</th>\n",
       "      <th>count</th>\n",
       "    </tr>\n",
       "  </thead>\n",
       "  <tbody>\n",
       "    <tr>\n",
       "      <th>0</th>\n",
       "      <td>TV Show</td>\n",
       "      <td>1 Season</td>\n",
       "      <td>1791</td>\n",
       "    </tr>\n",
       "    <tr>\n",
       "      <th>1</th>\n",
       "      <td>TV Show</td>\n",
       "      <td>2 Seasons</td>\n",
       "      <td>421</td>\n",
       "    </tr>\n",
       "    <tr>\n",
       "      <th>2</th>\n",
       "      <td>TV Show</td>\n",
       "      <td>3 Seasons</td>\n",
       "      <td>198</td>\n",
       "    </tr>\n",
       "    <tr>\n",
       "      <th>3</th>\n",
       "      <td>Movie</td>\n",
       "      <td>90 min</td>\n",
       "      <td>152</td>\n",
       "    </tr>\n",
       "    <tr>\n",
       "      <th>4</th>\n",
       "      <td>Movie</td>\n",
       "      <td>97 min</td>\n",
       "      <td>146</td>\n",
       "    </tr>\n",
       "    <tr>\n",
       "      <th>...</th>\n",
       "      <td>...</td>\n",
       "      <td>...</td>\n",
       "      <td>...</td>\n",
       "    </tr>\n",
       "    <tr>\n",
       "      <th>215</th>\n",
       "      <td>Movie</td>\n",
       "      <td>205 min</td>\n",
       "      <td>1</td>\n",
       "    </tr>\n",
       "    <tr>\n",
       "      <th>216</th>\n",
       "      <td>Movie</td>\n",
       "      <td>203 min</td>\n",
       "      <td>1</td>\n",
       "    </tr>\n",
       "    <tr>\n",
       "      <th>217</th>\n",
       "      <td>Movie</td>\n",
       "      <td>201 min</td>\n",
       "      <td>1</td>\n",
       "    </tr>\n",
       "    <tr>\n",
       "      <th>218</th>\n",
       "      <td>Movie</td>\n",
       "      <td>9 min</td>\n",
       "      <td>1</td>\n",
       "    </tr>\n",
       "    <tr>\n",
       "      <th>219</th>\n",
       "      <td>Movie</td>\n",
       "      <td>10 min</td>\n",
       "      <td>1</td>\n",
       "    </tr>\n",
       "  </tbody>\n",
       "</table>\n",
       "<p>220 rows × 3 columns</p>\n",
       "</div>"
      ],
      "text/plain": [
       "        type   duration  count\n",
       "0    TV Show   1 Season   1791\n",
       "1    TV Show  2 Seasons    421\n",
       "2    TV Show  3 Seasons    198\n",
       "3      Movie     90 min    152\n",
       "4      Movie     97 min    146\n",
       "..       ...        ...    ...\n",
       "215    Movie    205 min      1\n",
       "216    Movie    203 min      1\n",
       "217    Movie    201 min      1\n",
       "218    Movie      9 min      1\n",
       "219    Movie     10 min      1\n",
       "\n",
       "[220 rows x 3 columns]"
      ]
     },
     "execution_count": 34,
     "metadata": {},
     "output_type": "execute_result"
    }
   ],
   "source": [
    "durations = data.groupby(['type', 'duration'])['duration'].value_counts().sort_values(ascending = False).reset_index()\n",
    "durations"
   ]
  },
  {
   "cell_type": "code",
   "execution_count": 35,
   "id": "b400ce43",
   "metadata": {
    "execution": {
     "iopub.execute_input": "2023-10-09T20:52:53.129735Z",
     "iopub.status.busy": "2023-10-09T20:52:53.129300Z",
     "iopub.status.idle": "2023-10-09T20:52:53.140724Z",
     "shell.execute_reply": "2023-10-09T20:52:53.139666Z"
    },
    "papermill": {
     "duration": 0.02977,
     "end_time": "2023-10-09T20:52:53.142827",
     "exception": false,
     "start_time": "2023-10-09T20:52:53.113057",
     "status": "completed"
    },
    "tags": []
   },
   "outputs": [
    {
     "data": {
      "text/html": [
       "<div>\n",
       "<style scoped>\n",
       "    .dataframe tbody tr th:only-of-type {\n",
       "        vertical-align: middle;\n",
       "    }\n",
       "\n",
       "    .dataframe tbody tr th {\n",
       "        vertical-align: top;\n",
       "    }\n",
       "\n",
       "    .dataframe thead th {\n",
       "        text-align: right;\n",
       "    }\n",
       "</style>\n",
       "<table border=\"1\" class=\"dataframe\">\n",
       "  <thead>\n",
       "    <tr style=\"text-align: right;\">\n",
       "      <th></th>\n",
       "      <th>type</th>\n",
       "      <th>duration</th>\n",
       "      <th>count</th>\n",
       "    </tr>\n",
       "  </thead>\n",
       "  <tbody>\n",
       "    <tr>\n",
       "      <th>0</th>\n",
       "      <td>TV Show</td>\n",
       "      <td>1 Season</td>\n",
       "      <td>1791</td>\n",
       "    </tr>\n",
       "    <tr>\n",
       "      <th>1</th>\n",
       "      <td>TV Show</td>\n",
       "      <td>2 Seasons</td>\n",
       "      <td>421</td>\n",
       "    </tr>\n",
       "    <tr>\n",
       "      <th>2</th>\n",
       "      <td>TV Show</td>\n",
       "      <td>3 Seasons</td>\n",
       "      <td>198</td>\n",
       "    </tr>\n",
       "    <tr>\n",
       "      <th>3</th>\n",
       "      <td>Movie</td>\n",
       "      <td>90 min</td>\n",
       "      <td>152</td>\n",
       "    </tr>\n",
       "    <tr>\n",
       "      <th>4</th>\n",
       "      <td>Movie</td>\n",
       "      <td>97 min</td>\n",
       "      <td>146</td>\n",
       "    </tr>\n",
       "    <tr>\n",
       "      <th>5</th>\n",
       "      <td>Movie</td>\n",
       "      <td>93 min</td>\n",
       "      <td>146</td>\n",
       "    </tr>\n",
       "    <tr>\n",
       "      <th>6</th>\n",
       "      <td>Movie</td>\n",
       "      <td>94 min</td>\n",
       "      <td>146</td>\n",
       "    </tr>\n",
       "    <tr>\n",
       "      <th>7</th>\n",
       "      <td>Movie</td>\n",
       "      <td>91 min</td>\n",
       "      <td>144</td>\n",
       "    </tr>\n",
       "    <tr>\n",
       "      <th>8</th>\n",
       "      <td>Movie</td>\n",
       "      <td>95 min</td>\n",
       "      <td>137</td>\n",
       "    </tr>\n",
       "    <tr>\n",
       "      <th>9</th>\n",
       "      <td>Movie</td>\n",
       "      <td>96 min</td>\n",
       "      <td>130</td>\n",
       "    </tr>\n",
       "  </tbody>\n",
       "</table>\n",
       "</div>"
      ],
      "text/plain": [
       "      type   duration  count\n",
       "0  TV Show   1 Season   1791\n",
       "1  TV Show  2 Seasons    421\n",
       "2  TV Show  3 Seasons    198\n",
       "3    Movie     90 min    152\n",
       "4    Movie     97 min    146\n",
       "5    Movie     93 min    146\n",
       "6    Movie     94 min    146\n",
       "7    Movie     91 min    144\n",
       "8    Movie     95 min    137\n",
       "9    Movie     96 min    130"
      ]
     },
     "execution_count": 35,
     "metadata": {},
     "output_type": "execute_result"
    }
   ],
   "source": [
    "top_10_durations = durations.head(10)\n",
    "top_10_durations"
   ]
  },
  {
   "cell_type": "code",
   "execution_count": 36,
   "id": "3743fcd9",
   "metadata": {
    "execution": {
     "iopub.execute_input": "2023-10-09T20:52:53.172338Z",
     "iopub.status.busy": "2023-10-09T20:52:53.171986Z",
     "iopub.status.idle": "2023-10-09T20:52:53.179379Z",
     "shell.execute_reply": "2023-10-09T20:52:53.178410Z"
    },
    "papermill": {
     "duration": 0.024191,
     "end_time": "2023-10-09T20:52:53.181299",
     "exception": false,
     "start_time": "2023-10-09T20:52:53.157108",
     "status": "completed"
    },
    "tags": []
   },
   "outputs": [
    {
     "data": {
      "text/plain": [
       "array(['PG-13', 'TV-MA', 'TV-PG', 'TV-14', 'TV-Y7', 'TV-Y', 'PG', 'TV-G',\n",
       "       'R', 'G', 'NC-17', 'NR', 'TV-Y7-FV', 'UR'], dtype=object)"
      ]
     },
     "execution_count": 36,
     "metadata": {},
     "output_type": "execute_result"
    }
   ],
   "source": [
    "data['rating'].unique()"
   ]
  },
  {
   "cell_type": "code",
   "execution_count": 37,
   "id": "02b01bf3",
   "metadata": {
    "execution": {
     "iopub.execute_input": "2023-10-09T20:52:53.211270Z",
     "iopub.status.busy": "2023-10-09T20:52:53.210814Z",
     "iopub.status.idle": "2023-10-09T20:52:53.219574Z",
     "shell.execute_reply": "2023-10-09T20:52:53.218448Z"
    },
    "papermill": {
     "duration": 0.025863,
     "end_time": "2023-10-09T20:52:53.221613",
     "exception": false,
     "start_time": "2023-10-09T20:52:53.195750",
     "status": "completed"
    },
    "tags": []
   },
   "outputs": [
    {
     "data": {
      "text/plain": [
       "14"
      ]
     },
     "execution_count": 37,
     "metadata": {},
     "output_type": "execute_result"
    }
   ],
   "source": [
    "data['rating'].nunique()"
   ]
  },
  {
   "cell_type": "code",
   "execution_count": 38,
   "id": "39b2b64f",
   "metadata": {
    "execution": {
     "iopub.execute_input": "2023-10-09T20:52:53.251205Z",
     "iopub.status.busy": "2023-10-09T20:52:53.250775Z",
     "iopub.status.idle": "2023-10-09T20:52:53.269893Z",
     "shell.execute_reply": "2023-10-09T20:52:53.268680Z"
    },
    "papermill": {
     "duration": 0.036474,
     "end_time": "2023-10-09T20:52:53.272161",
     "exception": false,
     "start_time": "2023-10-09T20:52:53.235687",
     "status": "completed"
    },
    "tags": []
   },
   "outputs": [
    {
     "data": {
      "text/html": [
       "<div>\n",
       "<style scoped>\n",
       "    .dataframe tbody tr th:only-of-type {\n",
       "        vertical-align: middle;\n",
       "    }\n",
       "\n",
       "    .dataframe tbody tr th {\n",
       "        vertical-align: top;\n",
       "    }\n",
       "\n",
       "    .dataframe thead th {\n",
       "        text-align: right;\n",
       "    }\n",
       "</style>\n",
       "<table border=\"1\" class=\"dataframe\">\n",
       "  <thead>\n",
       "    <tr style=\"text-align: right;\">\n",
       "      <th></th>\n",
       "      <th>type</th>\n",
       "      <th>rating</th>\n",
       "      <th>count</th>\n",
       "    </tr>\n",
       "  </thead>\n",
       "  <tbody>\n",
       "    <tr>\n",
       "      <th>0</th>\n",
       "      <td>Movie</td>\n",
       "      <td>TV-MA</td>\n",
       "      <td>2062</td>\n",
       "    </tr>\n",
       "    <tr>\n",
       "      <th>1</th>\n",
       "      <td>Movie</td>\n",
       "      <td>TV-14</td>\n",
       "      <td>1427</td>\n",
       "    </tr>\n",
       "    <tr>\n",
       "      <th>2</th>\n",
       "      <td>TV Show</td>\n",
       "      <td>TV-MA</td>\n",
       "      <td>1143</td>\n",
       "    </tr>\n",
       "    <tr>\n",
       "      <th>3</th>\n",
       "      <td>Movie</td>\n",
       "      <td>R</td>\n",
       "      <td>797</td>\n",
       "    </tr>\n",
       "    <tr>\n",
       "      <th>4</th>\n",
       "      <td>TV Show</td>\n",
       "      <td>TV-14</td>\n",
       "      <td>730</td>\n",
       "    </tr>\n",
       "    <tr>\n",
       "      <th>5</th>\n",
       "      <td>Movie</td>\n",
       "      <td>TV-PG</td>\n",
       "      <td>540</td>\n",
       "    </tr>\n",
       "    <tr>\n",
       "      <th>6</th>\n",
       "      <td>Movie</td>\n",
       "      <td>PG-13</td>\n",
       "      <td>490</td>\n",
       "    </tr>\n",
       "    <tr>\n",
       "      <th>7</th>\n",
       "      <td>TV Show</td>\n",
       "      <td>TV-PG</td>\n",
       "      <td>321</td>\n",
       "    </tr>\n",
       "    <tr>\n",
       "      <th>8</th>\n",
       "      <td>Movie</td>\n",
       "      <td>PG</td>\n",
       "      <td>287</td>\n",
       "    </tr>\n",
       "    <tr>\n",
       "      <th>9</th>\n",
       "      <td>TV Show</td>\n",
       "      <td>TV-Y7</td>\n",
       "      <td>194</td>\n",
       "    </tr>\n",
       "    <tr>\n",
       "      <th>10</th>\n",
       "      <td>TV Show</td>\n",
       "      <td>TV-Y</td>\n",
       "      <td>175</td>\n",
       "    </tr>\n",
       "    <tr>\n",
       "      <th>11</th>\n",
       "      <td>Movie</td>\n",
       "      <td>TV-Y7</td>\n",
       "      <td>139</td>\n",
       "    </tr>\n",
       "    <tr>\n",
       "      <th>12</th>\n",
       "      <td>Movie</td>\n",
       "      <td>TV-Y</td>\n",
       "      <td>131</td>\n",
       "    </tr>\n",
       "    <tr>\n",
       "      <th>13</th>\n",
       "      <td>Movie</td>\n",
       "      <td>TV-G</td>\n",
       "      <td>126</td>\n",
       "    </tr>\n",
       "    <tr>\n",
       "      <th>14</th>\n",
       "      <td>TV Show</td>\n",
       "      <td>TV-G</td>\n",
       "      <td>94</td>\n",
       "    </tr>\n",
       "    <tr>\n",
       "      <th>15</th>\n",
       "      <td>Movie</td>\n",
       "      <td>NR</td>\n",
       "      <td>75</td>\n",
       "    </tr>\n",
       "    <tr>\n",
       "      <th>16</th>\n",
       "      <td>Movie</td>\n",
       "      <td>G</td>\n",
       "      <td>41</td>\n",
       "    </tr>\n",
       "    <tr>\n",
       "      <th>17</th>\n",
       "      <td>Movie</td>\n",
       "      <td>TV-Y7-FV</td>\n",
       "      <td>5</td>\n",
       "    </tr>\n",
       "    <tr>\n",
       "      <th>18</th>\n",
       "      <td>TV Show</td>\n",
       "      <td>NR</td>\n",
       "      <td>4</td>\n",
       "    </tr>\n",
       "    <tr>\n",
       "      <th>19</th>\n",
       "      <td>Movie</td>\n",
       "      <td>UR</td>\n",
       "      <td>3</td>\n",
       "    </tr>\n",
       "    <tr>\n",
       "      <th>20</th>\n",
       "      <td>Movie</td>\n",
       "      <td>NC-17</td>\n",
       "      <td>3</td>\n",
       "    </tr>\n",
       "    <tr>\n",
       "      <th>21</th>\n",
       "      <td>TV Show</td>\n",
       "      <td>R</td>\n",
       "      <td>2</td>\n",
       "    </tr>\n",
       "    <tr>\n",
       "      <th>22</th>\n",
       "      <td>TV Show</td>\n",
       "      <td>TV-Y7-FV</td>\n",
       "      <td>1</td>\n",
       "    </tr>\n",
       "  </tbody>\n",
       "</table>\n",
       "</div>"
      ],
      "text/plain": [
       "       type    rating  count\n",
       "0     Movie     TV-MA   2062\n",
       "1     Movie     TV-14   1427\n",
       "2   TV Show     TV-MA   1143\n",
       "3     Movie         R    797\n",
       "4   TV Show     TV-14    730\n",
       "5     Movie     TV-PG    540\n",
       "6     Movie     PG-13    490\n",
       "7   TV Show     TV-PG    321\n",
       "8     Movie        PG    287\n",
       "9   TV Show     TV-Y7    194\n",
       "10  TV Show      TV-Y    175\n",
       "11    Movie     TV-Y7    139\n",
       "12    Movie      TV-Y    131\n",
       "13    Movie      TV-G    126\n",
       "14  TV Show      TV-G     94\n",
       "15    Movie        NR     75\n",
       "16    Movie         G     41\n",
       "17    Movie  TV-Y7-FV      5\n",
       "18  TV Show        NR      4\n",
       "19    Movie        UR      3\n",
       "20    Movie     NC-17      3\n",
       "21  TV Show         R      2\n",
       "22  TV Show  TV-Y7-FV      1"
      ]
     },
     "execution_count": 38,
     "metadata": {},
     "output_type": "execute_result"
    }
   ],
   "source": [
    "ratings = data.groupby(['type', 'rating'])['rating'].value_counts().sort_values(ascending = False).reset_index()\n",
    "ratings"
   ]
  },
  {
   "cell_type": "code",
   "execution_count": 39,
   "id": "097604a1",
   "metadata": {
    "execution": {
     "iopub.execute_input": "2023-10-09T20:52:53.306511Z",
     "iopub.status.busy": "2023-10-09T20:52:53.306032Z",
     "iopub.status.idle": "2023-10-09T20:52:53.317206Z",
     "shell.execute_reply": "2023-10-09T20:52:53.316100Z"
    },
    "papermill": {
     "duration": 0.031838,
     "end_time": "2023-10-09T20:52:53.319453",
     "exception": false,
     "start_time": "2023-10-09T20:52:53.287615",
     "status": "completed"
    },
    "tags": []
   },
   "outputs": [
    {
     "data": {
      "text/html": [
       "<div>\n",
       "<style scoped>\n",
       "    .dataframe tbody tr th:only-of-type {\n",
       "        vertical-align: middle;\n",
       "    }\n",
       "\n",
       "    .dataframe tbody tr th {\n",
       "        vertical-align: top;\n",
       "    }\n",
       "\n",
       "    .dataframe thead th {\n",
       "        text-align: right;\n",
       "    }\n",
       "</style>\n",
       "<table border=\"1\" class=\"dataframe\">\n",
       "  <thead>\n",
       "    <tr style=\"text-align: right;\">\n",
       "      <th></th>\n",
       "      <th>type</th>\n",
       "      <th>rating</th>\n",
       "      <th>count</th>\n",
       "    </tr>\n",
       "  </thead>\n",
       "  <tbody>\n",
       "    <tr>\n",
       "      <th>0</th>\n",
       "      <td>Movie</td>\n",
       "      <td>TV-MA</td>\n",
       "      <td>2062</td>\n",
       "    </tr>\n",
       "    <tr>\n",
       "      <th>1</th>\n",
       "      <td>Movie</td>\n",
       "      <td>TV-14</td>\n",
       "      <td>1427</td>\n",
       "    </tr>\n",
       "    <tr>\n",
       "      <th>2</th>\n",
       "      <td>TV Show</td>\n",
       "      <td>TV-MA</td>\n",
       "      <td>1143</td>\n",
       "    </tr>\n",
       "    <tr>\n",
       "      <th>3</th>\n",
       "      <td>Movie</td>\n",
       "      <td>R</td>\n",
       "      <td>797</td>\n",
       "    </tr>\n",
       "    <tr>\n",
       "      <th>4</th>\n",
       "      <td>TV Show</td>\n",
       "      <td>TV-14</td>\n",
       "      <td>730</td>\n",
       "    </tr>\n",
       "    <tr>\n",
       "      <th>5</th>\n",
       "      <td>Movie</td>\n",
       "      <td>TV-PG</td>\n",
       "      <td>540</td>\n",
       "    </tr>\n",
       "    <tr>\n",
       "      <th>6</th>\n",
       "      <td>Movie</td>\n",
       "      <td>PG-13</td>\n",
       "      <td>490</td>\n",
       "    </tr>\n",
       "    <tr>\n",
       "      <th>7</th>\n",
       "      <td>TV Show</td>\n",
       "      <td>TV-PG</td>\n",
       "      <td>321</td>\n",
       "    </tr>\n",
       "    <tr>\n",
       "      <th>8</th>\n",
       "      <td>Movie</td>\n",
       "      <td>PG</td>\n",
       "      <td>287</td>\n",
       "    </tr>\n",
       "    <tr>\n",
       "      <th>9</th>\n",
       "      <td>TV Show</td>\n",
       "      <td>TV-Y7</td>\n",
       "      <td>194</td>\n",
       "    </tr>\n",
       "  </tbody>\n",
       "</table>\n",
       "</div>"
      ],
      "text/plain": [
       "      type rating  count\n",
       "0    Movie  TV-MA   2062\n",
       "1    Movie  TV-14   1427\n",
       "2  TV Show  TV-MA   1143\n",
       "3    Movie      R    797\n",
       "4  TV Show  TV-14    730\n",
       "5    Movie  TV-PG    540\n",
       "6    Movie  PG-13    490\n",
       "7  TV Show  TV-PG    321\n",
       "8    Movie     PG    287\n",
       "9  TV Show  TV-Y7    194"
      ]
     },
     "execution_count": 39,
     "metadata": {},
     "output_type": "execute_result"
    }
   ],
   "source": [
    "top_10_ratings = ratings.head(10)\n",
    "top_10_ratings"
   ]
  },
  {
   "cell_type": "code",
   "execution_count": 40,
   "id": "8f2027b4",
   "metadata": {
    "execution": {
     "iopub.execute_input": "2023-10-09T20:52:53.352038Z",
     "iopub.status.busy": "2023-10-09T20:52:53.351630Z",
     "iopub.status.idle": "2023-10-09T20:52:53.371058Z",
     "shell.execute_reply": "2023-10-09T20:52:53.370226Z"
    },
    "papermill": {
     "duration": 0.038316,
     "end_time": "2023-10-09T20:52:53.373057",
     "exception": false,
     "start_time": "2023-10-09T20:52:53.334741",
     "status": "completed"
    },
    "tags": []
   },
   "outputs": [
    {
     "data": {
      "text/html": [
       "<div>\n",
       "<style scoped>\n",
       "    .dataframe tbody tr th:only-of-type {\n",
       "        vertical-align: middle;\n",
       "    }\n",
       "\n",
       "    .dataframe tbody tr th {\n",
       "        vertical-align: top;\n",
       "    }\n",
       "\n",
       "    .dataframe thead th {\n",
       "        text-align: right;\n",
       "    }\n",
       "</style>\n",
       "<table border=\"1\" class=\"dataframe\">\n",
       "  <thead>\n",
       "    <tr style=\"text-align: right;\">\n",
       "      <th></th>\n",
       "      <th>listed_in</th>\n",
       "      <th>type</th>\n",
       "      <th>count</th>\n",
       "    </tr>\n",
       "  </thead>\n",
       "  <tbody>\n",
       "    <tr>\n",
       "      <th>0</th>\n",
       "      <td>Action &amp; Adventure</td>\n",
       "      <td>Movie</td>\n",
       "      <td>128</td>\n",
       "    </tr>\n",
       "    <tr>\n",
       "      <th>1</th>\n",
       "      <td>Action &amp; Adventure, Anime Features</td>\n",
       "      <td>Movie</td>\n",
       "      <td>1</td>\n",
       "    </tr>\n",
       "    <tr>\n",
       "      <th>2</th>\n",
       "      <td>Action &amp; Adventure, Anime Features, Children &amp;...</td>\n",
       "      <td>Movie</td>\n",
       "      <td>4</td>\n",
       "    </tr>\n",
       "    <tr>\n",
       "      <th>3</th>\n",
       "      <td>Action &amp; Adventure, Anime Features, Classic Mo...</td>\n",
       "      <td>Movie</td>\n",
       "      <td>2</td>\n",
       "    </tr>\n",
       "    <tr>\n",
       "      <th>4</th>\n",
       "      <td>Action &amp; Adventure, Anime Features, Horror Movies</td>\n",
       "      <td>Movie</td>\n",
       "      <td>1</td>\n",
       "    </tr>\n",
       "    <tr>\n",
       "      <th>...</th>\n",
       "      <td>...</td>\n",
       "      <td>...</td>\n",
       "      <td>...</td>\n",
       "    </tr>\n",
       "    <tr>\n",
       "      <th>508</th>\n",
       "      <td>TV Horror, TV Mysteries, Teen TV Shows</td>\n",
       "      <td>TV Show</td>\n",
       "      <td>1</td>\n",
       "    </tr>\n",
       "    <tr>\n",
       "      <th>509</th>\n",
       "      <td>TV Horror, Teen TV Shows</td>\n",
       "      <td>TV Show</td>\n",
       "      <td>2</td>\n",
       "    </tr>\n",
       "    <tr>\n",
       "      <th>510</th>\n",
       "      <td>TV Sci-Fi &amp; Fantasy, TV Thrillers</td>\n",
       "      <td>TV Show</td>\n",
       "      <td>1</td>\n",
       "    </tr>\n",
       "    <tr>\n",
       "      <th>511</th>\n",
       "      <td>TV Shows</td>\n",
       "      <td>TV Show</td>\n",
       "      <td>16</td>\n",
       "    </tr>\n",
       "    <tr>\n",
       "      <th>512</th>\n",
       "      <td>Thrillers</td>\n",
       "      <td>Movie</td>\n",
       "      <td>65</td>\n",
       "    </tr>\n",
       "  </tbody>\n",
       "</table>\n",
       "<p>513 rows × 3 columns</p>\n",
       "</div>"
      ],
      "text/plain": [
       "                                             listed_in     type  count\n",
       "0                                   Action & Adventure    Movie    128\n",
       "1                   Action & Adventure, Anime Features    Movie      1\n",
       "2    Action & Adventure, Anime Features, Children &...    Movie      4\n",
       "3    Action & Adventure, Anime Features, Classic Mo...    Movie      2\n",
       "4    Action & Adventure, Anime Features, Horror Movies    Movie      1\n",
       "..                                                 ...      ...    ...\n",
       "508             TV Horror, TV Mysteries, Teen TV Shows  TV Show      1\n",
       "509                           TV Horror, Teen TV Shows  TV Show      2\n",
       "510                  TV Sci-Fi & Fantasy, TV Thrillers  TV Show      1\n",
       "511                                           TV Shows  TV Show     16\n",
       "512                                          Thrillers    Movie     65\n",
       "\n",
       "[513 rows x 3 columns]"
      ]
     },
     "execution_count": 40,
     "metadata": {},
     "output_type": "execute_result"
    }
   ],
   "source": [
    "genres = data.groupby(['listed_in', 'type'])['listed_in'].value_counts().reset_index()\n",
    "genres"
   ]
  },
  {
   "cell_type": "code",
   "execution_count": 41,
   "id": "a99c1a36",
   "metadata": {
    "execution": {
     "iopub.execute_input": "2023-10-09T20:52:53.405564Z",
     "iopub.status.busy": "2023-10-09T20:52:53.405186Z",
     "iopub.status.idle": "2023-10-09T20:52:53.417273Z",
     "shell.execute_reply": "2023-10-09T20:52:53.416255Z"
    },
    "papermill": {
     "duration": 0.03089,
     "end_time": "2023-10-09T20:52:53.419458",
     "exception": false,
     "start_time": "2023-10-09T20:52:53.388568",
     "status": "completed"
    },
    "tags": []
   },
   "outputs": [
    {
     "data": {
      "text/html": [
       "<div>\n",
       "<style scoped>\n",
       "    .dataframe tbody tr th:only-of-type {\n",
       "        vertical-align: middle;\n",
       "    }\n",
       "\n",
       "    .dataframe tbody tr th {\n",
       "        vertical-align: top;\n",
       "    }\n",
       "\n",
       "    .dataframe thead th {\n",
       "        text-align: right;\n",
       "    }\n",
       "</style>\n",
       "<table border=\"1\" class=\"dataframe\">\n",
       "  <thead>\n",
       "    <tr style=\"text-align: right;\">\n",
       "      <th></th>\n",
       "      <th>listed_in</th>\n",
       "      <th>type</th>\n",
       "      <th>count</th>\n",
       "    </tr>\n",
       "  </thead>\n",
       "  <tbody>\n",
       "    <tr>\n",
       "      <th>325</th>\n",
       "      <td>Dramas, International Movies</td>\n",
       "      <td>Movie</td>\n",
       "      <td>362</td>\n",
       "    </tr>\n",
       "    <tr>\n",
       "      <th>273</th>\n",
       "      <td>Documentaries</td>\n",
       "      <td>Movie</td>\n",
       "      <td>359</td>\n",
       "    </tr>\n",
       "    <tr>\n",
       "      <th>469</th>\n",
       "      <td>Stand-Up Comedy</td>\n",
       "      <td>Movie</td>\n",
       "      <td>334</td>\n",
       "    </tr>\n",
       "    <tr>\n",
       "      <th>199</th>\n",
       "      <td>Comedies, Dramas, International Movies</td>\n",
       "      <td>Movie</td>\n",
       "      <td>274</td>\n",
       "    </tr>\n",
       "    <tr>\n",
       "      <th>318</th>\n",
       "      <td>Dramas, Independent Movies, International Movies</td>\n",
       "      <td>Movie</td>\n",
       "      <td>252</td>\n",
       "    </tr>\n",
       "    <tr>\n",
       "      <th>421</th>\n",
       "      <td>Kids' TV</td>\n",
       "      <td>TV Show</td>\n",
       "      <td>219</td>\n",
       "    </tr>\n",
       "    <tr>\n",
       "      <th>120</th>\n",
       "      <td>Children &amp; Family Movies</td>\n",
       "      <td>Movie</td>\n",
       "      <td>215</td>\n",
       "    </tr>\n",
       "    <tr>\n",
       "      <th>124</th>\n",
       "      <td>Children &amp; Family Movies, Comedies</td>\n",
       "      <td>Movie</td>\n",
       "      <td>201</td>\n",
       "    </tr>\n",
       "    <tr>\n",
       "      <th>280</th>\n",
       "      <td>Documentaries, International Movies</td>\n",
       "      <td>Movie</td>\n",
       "      <td>186</td>\n",
       "    </tr>\n",
       "    <tr>\n",
       "      <th>328</th>\n",
       "      <td>Dramas, International Movies, Romantic Movies</td>\n",
       "      <td>Movie</td>\n",
       "      <td>180</td>\n",
       "    </tr>\n",
       "  </tbody>\n",
       "</table>\n",
       "</div>"
      ],
      "text/plain": [
       "                                            listed_in     type  count\n",
       "325                      Dramas, International Movies    Movie    362\n",
       "273                                     Documentaries    Movie    359\n",
       "469                                   Stand-Up Comedy    Movie    334\n",
       "199            Comedies, Dramas, International Movies    Movie    274\n",
       "318  Dramas, Independent Movies, International Movies    Movie    252\n",
       "421                                          Kids' TV  TV Show    219\n",
       "120                          Children & Family Movies    Movie    215\n",
       "124                Children & Family Movies, Comedies    Movie    201\n",
       "280               Documentaries, International Movies    Movie    186\n",
       "328     Dramas, International Movies, Romantic Movies    Movie    180"
      ]
     },
     "execution_count": 41,
     "metadata": {},
     "output_type": "execute_result"
    }
   ],
   "source": [
    "top_10_genres = genres.sort_values(by = 'count', ascending = False).head(10)\n",
    "top_10_genres"
   ]
  },
  {
   "cell_type": "code",
   "execution_count": 42,
   "id": "19d95c05",
   "metadata": {
    "execution": {
     "iopub.execute_input": "2023-10-09T20:52:53.453221Z",
     "iopub.status.busy": "2023-10-09T20:52:53.452857Z",
     "iopub.status.idle": "2023-10-09T20:52:53.744273Z",
     "shell.execute_reply": "2023-10-09T20:52:53.742676Z"
    },
    "papermill": {
     "duration": 0.312324,
     "end_time": "2023-10-09T20:52:53.748051",
     "exception": false,
     "start_time": "2023-10-09T20:52:53.435727",
     "status": "completed"
    },
    "tags": []
   },
   "outputs": [
    {
     "data": {
      "text/plain": [
       "Text(0.5, 1.0, 'Types')"
      ]
     },
     "execution_count": 42,
     "metadata": {},
     "output_type": "execute_result"
    },
    {
     "data": {
      "text/plain": [
       "<Figure size 2000x600 with 0 Axes>"
      ]
     },
     "metadata": {},
     "output_type": "display_data"
    },
    {
     "data": {
      "image/png": "[encoded data removed]",
      "text/plain": [
       "<Figure size 640x480 with 1 Axes>"
      ]
     },
     "metadata": {},
     "output_type": "display_data"
    }
   ],
   "source": [
    "plt.figure(figsize=(20,6))\n",
    "types.plot.pie(y='count', shadow=True, autopct='%1.1f%%',labels=['Movie','TV Show'], explode=[0,0.1])\n",
    "plt.axis('equal')\n",
    "plt.title('Types')"
   ]
  },
  {
   "cell_type": "code",
   "execution_count": 43,
   "id": "af549b9e",
   "metadata": {
    "execution": {
     "iopub.execute_input": "2023-10-09T20:52:53.794685Z",
     "iopub.status.busy": "2023-10-09T20:52:53.794229Z",
     "iopub.status.idle": "2023-10-09T20:52:54.220594Z",
     "shell.execute_reply": "2023-10-09T20:52:54.219226Z"
    },
    "papermill": {
     "duration": 0.445458,
     "end_time": "2023-10-09T20:52:54.222814",
     "exception": false,
     "start_time": "2023-10-09T20:52:53.777356",
     "status": "completed"
    },
    "tags": []
   },
   "outputs": [
    {
     "data": {
      "text/plain": [
       "Text(0, 0.5, 'No of Movies/Tv shows')"
      ]
     },
     "execution_count": 43,
     "metadata": {},
     "output_type": "execute_result"
    },
    {
     "data": {
      "image/png": "[encoded data removed]",
      "text/plain": [
       "<Figure size 2000x1000 with 1 Axes>"
      ]
     },
     "metadata": {},
     "output_type": "display_data"
    }
   ],
   "source": [
    "plt.figure(figsize=(20,10))\n",
    "plt.title('Top 10 directors')\n",
    "sns.barplot(x='director',y='count',data=top_10_directors)\n",
    "plt.xlabel('Directors')\n",
    "plt.ylabel('No of Movies/Tv shows')"
   ]
  },
  {
   "cell_type": "code",
   "execution_count": 44,
   "id": "4fc84106",
   "metadata": {
    "execution": {
     "iopub.execute_input": "2023-10-09T20:52:54.256533Z",
     "iopub.status.busy": "2023-10-09T20:52:54.255817Z",
     "iopub.status.idle": "2023-10-09T20:52:54.655110Z",
     "shell.execute_reply": "2023-10-09T20:52:54.654067Z"
    },
    "papermill": {
     "duration": 0.418522,
     "end_time": "2023-10-09T20:52:54.657321",
     "exception": false,
     "start_time": "2023-10-09T20:52:54.238799",
     "status": "completed"
    },
    "tags": []
   },
   "outputs": [
    {
     "data": {
      "text/plain": [
       "Text(0, 0.5, 'No of Movies')"
      ]
     },
     "execution_count": 44,
     "metadata": {},
     "output_type": "execute_result"
    },
    {
     "data": {
      "image/png": "[encoded data removed]",
      "text/plain": [
       "<Figure size 2000x1000 with 1 Axes>"
      ]
     },
     "metadata": {},
     "output_type": "display_data"
    }
   ],
   "source": [
    "plt.figure(figsize=(20,10))\n",
    "plt.title('Top 10 movie directors')\n",
    "sns.barplot(x='director',y='count',data=top_10_movie_directors)\n",
    "plt.xlabel('Directors')\n",
    "plt.ylabel('No of Movies')"
   ]
  },
  {
   "cell_type": "code",
   "execution_count": 45,
   "id": "28ebd9e9",
   "metadata": {
    "execution": {
     "iopub.execute_input": "2023-10-09T20:52:54.694086Z",
     "iopub.status.busy": "2023-10-09T20:52:54.693768Z",
     "iopub.status.idle": "2023-10-09T20:52:55.114006Z",
     "shell.execute_reply": "2023-10-09T20:52:55.112791Z"
    },
    "papermill": {
     "duration": 0.44287,
     "end_time": "2023-10-09T20:52:55.117116",
     "exception": false,
     "start_time": "2023-10-09T20:52:54.674246",
     "status": "completed"
    },
    "tags": []
   },
   "outputs": [
    {
     "data": {
      "text/plain": [
       "Text(0, 0.5, 'No of Tv shows')"
      ]
     },
     "execution_count": 45,
     "metadata": {},
     "output_type": "execute_result"
    },
    {
     "data": {
      "image/png": "[encoded data removed]",
      "text/plain": [
       "<Figure size 2200x700 with 1 Axes>"
      ]
     },
     "metadata": {},
     "output_type": "display_data"
    }
   ],
   "source": [
    "plt.figure(figsize=(22,7))\n",
    "plt.title('Top 10 directors')\n",
    "sns.barplot(x='director',y='count',data=top_10_TV_shows_directors)\n",
    "plt.xlabel('Directors')\n",
    "plt.ylabel('No of Tv shows')"
   ]
  },
  {
   "cell_type": "code",
   "execution_count": 46,
   "id": "eb503690",
   "metadata": {
    "execution": {
     "iopub.execute_input": "2023-10-09T20:52:55.170714Z",
     "iopub.status.busy": "2023-10-09T20:52:55.169822Z",
     "iopub.status.idle": "2023-10-09T20:52:55.660916Z",
     "shell.execute_reply": "2023-10-09T20:52:55.659565Z"
    },
    "papermill": {
     "duration": 0.524667,
     "end_time": "2023-10-09T20:52:55.663402",
     "exception": false,
     "start_time": "2023-10-09T20:52:55.138735",
     "status": "completed"
    },
    "tags": []
   },
   "outputs": [
    {
     "data": {
      "text/plain": [
       "Text(0, 0.5, 'No of Movies')"
      ]
     },
     "execution_count": 46,
     "metadata": {},
     "output_type": "execute_result"
    },
    {
     "data": {
      "image/png": "[encoded data removed]",
      "text/plain": [
       "<Figure size 2000x800 with 1 Axes>"
      ]
     },
     "metadata": {},
     "output_type": "display_data"
    }
   ],
   "source": [
    "plt.figure(figsize=(20,8))\n",
    "plt.title('Top 10 countries')\n",
    "sns.barplot(x='country',y='count',data=top_10_countries, hue='type')\n",
    "plt.xlabel('Country')\n",
    "plt.ylabel('No of Movies')"
   ]
  },
  {
   "cell_type": "code",
   "execution_count": 47,
   "id": "d6deff0e",
   "metadata": {
    "execution": {
     "iopub.execute_input": "2023-10-09T20:52:55.705374Z",
     "iopub.status.busy": "2023-10-09T20:52:55.704944Z",
     "iopub.status.idle": "2023-10-09T20:52:55.949778Z",
     "shell.execute_reply": "2023-10-09T20:52:55.948475Z"
    },
    "papermill": {
     "duration": 0.268219,
     "end_time": "2023-10-09T20:52:55.951889",
     "exception": false,
     "start_time": "2023-10-09T20:52:55.683670",
     "status": "completed"
    },
    "tags": []
   },
   "outputs": [
    {
     "data": {
      "text/plain": [
       "Text(0, 0.5, 'No of Movies')"
      ]
     },
     "execution_count": 47,
     "metadata": {},
     "output_type": "execute_result"
    },
    {
     "data": {
      "image/png": "[encoded data removed]",
      "text/plain": [
       "<Figure size 640x480 with 1 Axes>"
      ]
     },
     "metadata": {},
     "output_type": "display_data"
    }
   ],
   "source": [
    "plt.title('2012 - 2021')\n",
    "sns.set_style('whitegrid')\n",
    "sns.lineplot(x='release_year', y='count', data=top_10_years, markers=True)\n",
    "plt.xticks(top_10_years['release_year'])\n",
    "plt.xlabel('year')\n",
    "plt.ylabel('No of Movies')"
   ]
  },
  {
   "cell_type": "code",
   "execution_count": 48,
   "id": "1368ff5f",
   "metadata": {
    "execution": {
     "iopub.execute_input": "2023-10-09T20:52:55.994564Z",
     "iopub.status.busy": "2023-10-09T20:52:55.994138Z",
     "iopub.status.idle": "2023-10-09T20:52:56.457343Z",
     "shell.execute_reply": "2023-10-09T20:52:56.456435Z"
    },
    "papermill": {
     "duration": 0.487199,
     "end_time": "2023-10-09T20:52:56.459625",
     "exception": false,
     "start_time": "2023-10-09T20:52:55.972426",
     "status": "completed"
    },
    "tags": []
   },
   "outputs": [
    {
     "data": {
      "text/plain": [
       "Text(0, 0.5, 'No of Movies')"
      ]
     },
     "execution_count": 48,
     "metadata": {},
     "output_type": "execute_result"
    },
    {
     "data": {
      "image/png": "[encoded data removed]",
      "text/plain": [
       "<Figure size 2000x800 with 1 Axes>"
      ]
     },
     "metadata": {},
     "output_type": "display_data"
    }
   ],
   "source": [
    "plt.figure(figsize=(20,8))\n",
    "plt.title('Top 10 ratings')\n",
    "sns.barplot(x='rating',y='count',data=top_10_ratings, hue='type')\n",
    "plt.xlabel('Ratings')\n",
    "plt.ylabel('No of Movies')"
   ]
  },
  {
   "cell_type": "code",
   "execution_count": 49,
   "id": "ed8cd393",
   "metadata": {
    "execution": {
     "iopub.execute_input": "2023-10-09T20:52:56.503251Z",
     "iopub.status.busy": "2023-10-09T20:52:56.502926Z",
     "iopub.status.idle": "2023-10-09T20:52:57.096784Z",
     "shell.execute_reply": "2023-10-09T20:52:57.095467Z"
    },
    "papermill": {
     "duration": 0.620709,
     "end_time": "2023-10-09T20:52:57.100640",
     "exception": false,
     "start_time": "2023-10-09T20:52:56.479931",
     "status": "completed"
    },
    "tags": []
   },
   "outputs": [
    {
     "data": {
      "text/plain": [
       "Text(0, 0.5, 'No of Movies')"
      ]
     },
     "execution_count": 49,
     "metadata": {},
     "output_type": "execute_result"
    },
    {
     "data": {
      "image/png": "[encoded data removed]",
      "text/plain": [
       "<Figure size 2000x800 with 1 Axes>"
      ]
     },
     "metadata": {},
     "output_type": "display_data"
    }
   ],
   "source": [
    "plt.figure(figsize=(20,8))\n",
    "plt.title('Top 10 genres')\n",
    "sns.barplot(x='listed_in',y='count',data=top_10_genres,hue='type')\n",
    "plt.xticks(rotation=45)\n",
    "plt.xlabel('Genres')\n",
    "plt.ylabel('No of Movies')"
   ]
  },
  {
   "cell_type": "code",
   "execution_count": 50,
   "id": "3dd06e88",
   "metadata": {
    "execution": {
     "iopub.execute_input": "2023-10-09T20:52:57.150564Z",
     "iopub.status.busy": "2023-10-09T20:52:57.150136Z",
     "iopub.status.idle": "2023-10-09T20:52:57.367545Z",
     "shell.execute_reply": "2023-10-09T20:52:57.366420Z"
    },
    "papermill": {
     "duration": 0.244889,
     "end_time": "2023-10-09T20:52:57.370116",
     "exception": false,
     "start_time": "2023-10-09T20:52:57.125227",
     "status": "completed"
    },
    "tags": []
   },
   "outputs": [
    {
     "data": {
      "text/plain": [
       "Text(0.5, 1.0, 'Top 5 Durations')"
      ]
     },
     "execution_count": 50,
     "metadata": {},
     "output_type": "execute_result"
    },
    {
     "data": {
      "image/png": "[encoded data removed]",
      "text/plain": [
       "<Figure size 2000x500 with 1 Axes>"
      ]
     },
     "metadata": {},
     "output_type": "display_data"
    }
   ],
   "source": [
    "plt.figure(figsize=(20,5))\n",
    "plt.pie(data=top_10_durations.head(5),x='count',labels='duration',autopct='%1.1f%%',explode=[0.1,0,0,0,0])\n",
    "plt.legend(top_10_durations['duration'])\n",
    "plt.title('Top 5 Durations')"
   ]
  }
 ],
 "metadata": {
  "kernelspec": {
   "display_name": "Python 3 (ipykernel)",
   "language": "python",
   "name": "python3"
  },
  "language_info": {
   "codemirror_mode": {
    "name": "ipython",
    "version": 3
   },
   "file_extension": ".py",
   "mimetype": "text/x-python",
   "name": "python",
   "nbconvert_exporter": "python",
   "pygments_lexer": "ipython3",
   "version": "3.13.1"
  },
  "papermill": {
   "default_parameters": {},
   "duration": 12.106538,
   "end_time": "2023-10-09T20:52:58.420195",
   "environment_variables": {},
   "exception": null,
   "input_path": "__notebook__.ipynb",
   "output_path": "__notebook__.ipynb",
   "parameters": {},
   "start_time": "2023-10-09T20:52:46.313657",
   "version": "2.4.0"
  }
 },
 "nbformat": 4,
 "nbformat_minor": 5
}
